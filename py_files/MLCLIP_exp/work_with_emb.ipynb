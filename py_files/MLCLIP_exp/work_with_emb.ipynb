{
 "cells": [
  {
   "cell_type": "code",
   "execution_count": 29,
   "metadata": {},
   "outputs": [],
   "source": [
    "import pandas as pd\n",
    "import numpy as np\n",
    "import torch"
   ]
  },
  {
   "cell_type": "code",
   "execution_count": 26,
   "metadata": {},
   "outputs": [
    {
     "data": {
      "text/html": [
       "<div>\n",
       "<style scoped>\n",
       "    .dataframe tbody tr th:only-of-type {\n",
       "        vertical-align: middle;\n",
       "    }\n",
       "\n",
       "    .dataframe tbody tr th {\n",
       "        vertical-align: top;\n",
       "    }\n",
       "\n",
       "    .dataframe thead th {\n",
       "        text-align: right;\n",
       "    }\n",
       "</style>\n",
       "<table border=\"1\" class=\"dataframe\">\n",
       "  <thead>\n",
       "    <tr style=\"text-align: right;\">\n",
       "      <th></th>\n",
       "      <th>id</th>\n",
       "      <th>description</th>\n",
       "      <th>object_img</th>\n",
       "      <th>image_features</th>\n",
       "      <th>text_features</th>\n",
       "    </tr>\n",
       "  </thead>\n",
       "  <tbody>\n",
       "    <tr>\n",
       "      <th>0</th>\n",
       "      <td>520</td>\n",
       "      <td>Фотография. Г. Пермь. Здание горисполкома.  ПО...</td>\n",
       "      <td>799</td>\n",
       "      <td>[[1.454, 1.191, 0.521, 1.783, -0.4033, -0.615,...</td>\n",
       "      <td>[[-0.24118489, 0.25865138, -0.14606075, 1.2203...</td>\n",
       "    </tr>\n",
       "    <tr>\n",
       "      <th>1</th>\n",
       "      <td>1817</td>\n",
       "      <td>Фотонегатив пленочный. Труппа театра «У моста»...</td>\n",
       "      <td>854</td>\n",
       "      <td>[[0.7256, 0.1669, 0.1838, 1.635, -0.2441, 0.46...</td>\n",
       "      <td>[[-0.12055853, 0.15714812, 0.032904923, 0.7815...</td>\n",
       "    </tr>\n",
       "    <tr>\n",
       "      <th>2</th>\n",
       "      <td>188</td>\n",
       "      <td>Изразец гладкий расписной \"пермский\"- карниз А...</td>\n",
       "      <td>1794</td>\n",
       "      <td>[[0.3489, -0.03116, 0.238, 1.218, 0.1726, 0.74...</td>\n",
       "      <td>[[0.30912644, 0.8710553, -0.00015427265, -0.00...</td>\n",
       "    </tr>\n",
       "  </tbody>\n",
       "</table>\n",
       "</div>"
      ],
      "text/plain": [
       "     id                                        description  object_img  \\\n",
       "0   520  Фотография. Г. Пермь. Здание горисполкома.  ПО...         799   \n",
       "1  1817  Фотонегатив пленочный. Труппа театра «У моста»...         854   \n",
       "2   188  Изразец гладкий расписной \"пермский\"- карниз А...        1794   \n",
       "\n",
       "                                      image_features  \\\n",
       "0  [[1.454, 1.191, 0.521, 1.783, -0.4033, -0.615,...   \n",
       "1  [[0.7256, 0.1669, 0.1838, 1.635, -0.2441, 0.46...   \n",
       "2  [[0.3489, -0.03116, 0.238, 1.218, 0.1726, 0.74...   \n",
       "\n",
       "                                       text_features  \n",
       "0  [[-0.24118489, 0.25865138, -0.14606075, 1.2203...  \n",
       "1  [[-0.12055853, 0.15714812, 0.032904923, 0.7815...  \n",
       "2  [[0.30912644, 0.8710553, -0.00015427265, -0.00...  "
      ]
     },
     "execution_count": 26,
     "metadata": {},
     "output_type": "execute_result"
    }
   ],
   "source": [
    "df_train_clip = pd.read_csv(\"/home/docker_current/datasets/train.csv\")\n",
    "\n",
    "with open('image_feat_array.npy', 'rb') as f:\n",
    "    image_feat_array = np.load(f)\n",
    "\n",
    "with open('text_feat_array.npy', 'rb') as f:\n",
    "    text_feat_array = np.load(f)\n",
    "\n",
    "df_train_clip['image_features'] = [i.reshape(1,-1) for i in image_feat_array]\n",
    "df_train_clip['text_features'] = [i.reshape(1,-1) for i in text_feat_array]\n",
    "df_train_clip.head(3)"
   ]
  },
  {
   "cell_type": "code",
   "execution_count": 30,
   "metadata": {},
   "outputs": [],
   "source": [
    "cos = torch.nn.CosineSimilarity(dim=1, eps=1e-6)\n",
    "\n",
    "def get_similarity(df, index_text, index_image):\n",
    "    sim =cos(torch.Tensor(df_train_clip['text_features'][index_text]), \n",
    "                        torch.Tensor(df_train_clip['image_features'][index_image]))\n",
    "    return sim"
   ]
  },
  {
   "cell_type": "code",
   "execution_count": 81,
   "metadata": {},
   "outputs": [
    {
     "name": "stdout",
     "output_type": "stream",
     "text": [
      "CPU times: user 4min 10s, sys: 87.9 ms, total: 4min 10s\n",
      "Wall time: 4min 11s\n"
     ]
    },
    {
     "data": {
      "text/plain": [
       "382"
      ]
     },
     "execution_count": 81,
     "metadata": {},
     "output_type": "execute_result"
    }
   ],
   "source": [
    "%%time\n",
    "\n",
    "count_true_map = 0\n",
    "preds = []\n",
    "\n",
    "for ind_text in range(len(df_train_clip)):\n",
    "\n",
    "    sims = []\n",
    "\n",
    "    for ind_image in range(len(df_train_clip)):\n",
    "        sim = get_similarity(df_train_clip, ind_text, ind_image)\n",
    "        sims.append(sim)\n",
    "\n",
    "    sims = np.array(sims)\n",
    "    ind_max = np.argmax(sims)\n",
    "    preds.append(ind_max)\n",
    "    # print(ind_max, sims[ind_max])\n",
    "\n",
    "    if ind_max == ind_text:\n",
    "        count_true_map += 1\n",
    "\n",
    "count_true_map"
   ]
  },
  {
   "cell_type": "code",
   "execution_count": 82,
   "metadata": {},
   "outputs": [
    {
     "data": {
      "text/plain": [
       "(382, 2098)"
      ]
     },
     "execution_count": 82,
     "metadata": {},
     "output_type": "execute_result"
    }
   ],
   "source": [
    "count_true_map, len(df_train_clip)"
   ]
  },
  {
   "cell_type": "code",
   "execution_count": 89,
   "metadata": {},
   "outputs": [
    {
     "name": "stdout",
     "output_type": "stream",
     "text": [
      "R2 score: -0.6248734862466188\n"
     ]
    }
   ],
   "source": [
    "# !pip install sklearn\n",
    "from sklearn.metrics import r2_score\n",
    "\n",
    "y_test = df_train_clip['object_img']\n",
    "\n",
    "print(\"R2 score:\", r2_score(list(y_test), preds))"
   ]
  },
  {
   "cell_type": "code",
   "execution_count": null,
   "metadata": {},
   "outputs": [],
   "source": []
  }
 ],
 "metadata": {
  "kernelspec": {
   "display_name": "Python 3.6.9 64-bit",
   "language": "python",
   "name": "python3"
  },
  "language_info": {
   "codemirror_mode": {
    "name": "ipython",
    "version": 3
   },
   "file_extension": ".py",
   "mimetype": "text/x-python",
   "name": "python",
   "nbconvert_exporter": "python",
   "pygments_lexer": "ipython3",
   "version": "3.6.9"
  },
  "orig_nbformat": 4,
  "vscode": {
   "interpreter": {
    "hash": "767d51c1340bd893661ea55ea3124f6de3c7a262a8b4abca0554b478b1e2ff90"
   }
  }
 },
 "nbformat": 4,
 "nbformat_minor": 2
}
