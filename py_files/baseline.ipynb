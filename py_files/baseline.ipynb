{
  "cells": [
    {
      "cell_type": "markdown",
      "metadata": {
        "id": "FH0ZYdNyQzug"
      },
      "source": [
        "## Загрузим нужные библиотеки"
      ]
    },
    {
      "cell_type": "code",
      "execution_count": 7,
      "metadata": {},
      "outputs": [],
      "source": [
        "# !pip install pandas seaborn matplotlib sklearn"
      ]
    },
    {
      "cell_type": "code",
      "execution_count": 6,
      "metadata": {
        "id": "BwNGqMidQiRi"
      },
      "outputs": [],
      "source": [
        "import pandas as pd\n",
        "import seaborn as sns\n",
        "import matplotlib.pyplot as plt\n",
        "from sklearn.model_selection import train_test_split\n",
        "from sklearn.ensemble import RandomForestClassifier\n",
        "import numpy as np\n",
        "from os import listdir \n",
        "\n",
        "%matplotlib inline"
      ]
    },
    {
      "cell_type": "code",
      "execution_count": 9,
      "metadata": {
        "id": "3TZUcuZ33rM5"
      },
      "outputs": [],
      "source": [
        "df_train = pd.read_csv(\"/home/docker_current/datasets/train.csv\")"
      ]
    },
    {
      "cell_type": "code",
      "execution_count": 10,
      "metadata": {
        "colab": {
          "base_uri": "https://localhost:8080/"
        },
        "id": "IPLa558cu9EL",
        "outputId": "8952ee63-b145-46cc-c8df-946717f21c7a"
      },
      "outputs": [
        {
          "name": "stdout",
          "output_type": "stream",
          "text": [
            "Обучающей выборки  2098\n"
          ]
        }
      ],
      "source": [
        "print(\"Обучающей выборки \" ,len(listdir(\"/home/docker_current/datasets/train\")))"
      ]
    },
    {
      "cell_type": "markdown",
      "metadata": {
        "id": "GywlangPRAEm"
      },
      "source": [
        "## Рассмотрим датасет по ближе"
      ]
    },
    {
      "cell_type": "code",
      "execution_count": 14,
      "metadata": {
        "colab": {
          "base_uri": "https://localhost:8080/",
          "height": 143
        },
        "id": "gvcl_K3FQ-os",
        "outputId": "c5d10284-135d-4ee4-b73d-da0d4af8e04f"
      },
      "outputs": [
        {
          "data": {
            "text/html": [
              "<div>\n",
              "<style scoped>\n",
              "    .dataframe tbody tr th:only-of-type {\n",
              "        vertical-align: middle;\n",
              "    }\n",
              "\n",
              "    .dataframe tbody tr th {\n",
              "        vertical-align: top;\n",
              "    }\n",
              "\n",
              "    .dataframe thead th {\n",
              "        text-align: right;\n",
              "    }\n",
              "</style>\n",
              "<table border=\"1\" class=\"dataframe\">\n",
              "  <thead>\n",
              "    <tr style=\"text-align: right;\">\n",
              "      <th></th>\n",
              "      <th>id</th>\n",
              "      <th>description</th>\n",
              "      <th>object_img</th>\n",
              "    </tr>\n",
              "  </thead>\n",
              "  <tbody>\n",
              "    <tr>\n",
              "      <th>0</th>\n",
              "      <td>520</td>\n",
              "      <td>Фотография. Г. Пермь. Здание горисполкома.  ПО...</td>\n",
              "      <td>799</td>\n",
              "    </tr>\n",
              "    <tr>\n",
              "      <th>1</th>\n",
              "      <td>1817</td>\n",
              "      <td>Фотонегатив пленочный. Труппа театра «У моста»...</td>\n",
              "      <td>854</td>\n",
              "    </tr>\n",
              "    <tr>\n",
              "      <th>2</th>\n",
              "      <td>188</td>\n",
              "      <td>Изразец гладкий расписной \"пермский\"- карниз А...</td>\n",
              "      <td>1794</td>\n",
              "    </tr>\n",
              "  </tbody>\n",
              "</table>\n",
              "</div>"
            ],
            "text/plain": [
              "     id                                        description  object_img\n",
              "0   520  Фотография. Г. Пермь. Здание горисполкома.  ПО...         799\n",
              "1  1817  Фотонегатив пленочный. Труппа театра «У моста»...         854\n",
              "2   188  Изразец гладкий расписной \"пермский\"- карниз А...        1794"
            ]
          },
          "execution_count": 14,
          "metadata": {},
          "output_type": "execute_result"
        }
      ],
      "source": [
        "df_train.head(3)"
      ]
    },
    {
      "cell_type": "code",
      "execution_count": 15,
      "metadata": {
        "colab": {
          "base_uri": "https://localhost:8080/"
        },
        "id": "uAIT-vwLUI0z",
        "outputId": "ffe342d0-4a7e-41b8-be59-f30e02527370"
      },
      "outputs": [
        {
          "data": {
            "text/plain": [
              "(2098, 3)"
            ]
          },
          "execution_count": 15,
          "metadata": {},
          "output_type": "execute_result"
        }
      ],
      "source": [
        "df_train.shape"
      ]
    },
    {
      "cell_type": "code",
      "execution_count": 16,
      "metadata": {
        "colab": {
          "base_uri": "https://localhost:8080/"
        },
        "id": "SzAA5TKYfVey",
        "outputId": "70018c59-3721-4efd-ebe1-a7d6d98a9459"
      },
      "outputs": [
        {
          "name": "stdout",
          "output_type": "stream",
          "text": [
            "<class 'pandas.core.frame.DataFrame'>\n",
            "RangeIndex: 2098 entries, 0 to 2097\n",
            "Data columns (total 3 columns):\n",
            " #   Column       Non-Null Count  Dtype \n",
            "---  ------       --------------  ----- \n",
            " 0   id           2098 non-null   int64 \n",
            " 1   description  2098 non-null   object\n",
            " 2   object_img   2098 non-null   int64 \n",
            "dtypes: int64(2), object(1)\n",
            "memory usage: 49.3+ KB\n"
          ]
        }
      ],
      "source": [
        "df_train.info()"
      ]
    },
    {
      "cell_type": "markdown",
      "metadata": {
        "id": "w5fNLAa0h_dn"
      },
      "source": [
        "## Добавим новых признаков"
      ]
    },
    {
      "cell_type": "code",
      "execution_count": 17,
      "metadata": {
        "id": "9JdBKLy1v8yy"
      },
      "outputs": [],
      "source": [
        "df_train[\"len_description\"] = df_train.description.map(len)"
      ]
    },
    {
      "cell_type": "code",
      "execution_count": 18,
      "metadata": {
        "id": "qwOd5ylhv9KJ"
      },
      "outputs": [],
      "source": [
        "df_train[\"object\"] = df_train[\"description\"].map(lambda x : x.split()[0]) "
      ]
    },
    {
      "cell_type": "code",
      "execution_count": 19,
      "metadata": {
        "id": "dioc6HR31iw2"
      },
      "outputs": [],
      "source": [
        "df_train[\"object\"] = pd.Categorical(df_train[\"object\"])\n",
        "df_train[\"object\"].astype('category').cat.codes\n",
        "df_train[\"object\"] = df_train[\"object\"].cat.codes"
      ]
    },
    {
      "cell_type": "code",
      "execution_count": 20,
      "metadata": {
        "colab": {
          "base_uri": "https://localhost:8080/",
          "height": 143
        },
        "id": "AeOMUea_v9MC",
        "outputId": "3927916b-711a-4ba3-a06b-024cd4286e2c"
      },
      "outputs": [
        {
          "data": {
            "text/html": [
              "<div>\n",
              "<style scoped>\n",
              "    .dataframe tbody tr th:only-of-type {\n",
              "        vertical-align: middle;\n",
              "    }\n",
              "\n",
              "    .dataframe tbody tr th {\n",
              "        vertical-align: top;\n",
              "    }\n",
              "\n",
              "    .dataframe thead th {\n",
              "        text-align: right;\n",
              "    }\n",
              "</style>\n",
              "<table border=\"1\" class=\"dataframe\">\n",
              "  <thead>\n",
              "    <tr style=\"text-align: right;\">\n",
              "      <th></th>\n",
              "      <th>id</th>\n",
              "      <th>description</th>\n",
              "      <th>object_img</th>\n",
              "      <th>len_description</th>\n",
              "      <th>object</th>\n",
              "    </tr>\n",
              "  </thead>\n",
              "  <tbody>\n",
              "    <tr>\n",
              "      <th>0</th>\n",
              "      <td>520</td>\n",
              "      <td>Фотография. Г. Пермь. Здание горисполкома.  ПО...</td>\n",
              "      <td>799</td>\n",
              "      <td>84</td>\n",
              "      <td>78</td>\n",
              "    </tr>\n",
              "    <tr>\n",
              "      <th>1</th>\n",
              "      <td>1817</td>\n",
              "      <td>Фотонегатив пленочный. Труппа театра «У моста»...</td>\n",
              "      <td>854</td>\n",
              "      <td>145</td>\n",
              "      <td>80</td>\n",
              "    </tr>\n",
              "    <tr>\n",
              "      <th>2</th>\n",
              "      <td>188</td>\n",
              "      <td>Изразец гладкий расписной \"пермский\"- карниз А...</td>\n",
              "      <td>1794</td>\n",
              "      <td>314</td>\n",
              "      <td>21</td>\n",
              "    </tr>\n",
              "  </tbody>\n",
              "</table>\n",
              "</div>"
            ],
            "text/plain": [
              "     id                                        description  object_img  \\\n",
              "0   520  Фотография. Г. Пермь. Здание горисполкома.  ПО...         799   \n",
              "1  1817  Фотонегатив пленочный. Труппа театра «У моста»...         854   \n",
              "2   188  Изразец гладкий расписной \"пермский\"- карниз А...        1794   \n",
              "\n",
              "   len_description  object  \n",
              "0               84      78  \n",
              "1              145      80  \n",
              "2              314      21  "
            ]
          },
          "execution_count": 20,
          "metadata": {},
          "output_type": "execute_result"
        }
      ],
      "source": [
        "df_train.head(3)"
      ]
    },
    {
      "cell_type": "code",
      "execution_count": 21,
      "metadata": {
        "colab": {
          "base_uri": "https://localhost:8080/",
          "height": 499
        },
        "id": "zdp0SqYvykhc",
        "outputId": "14068e06-2b38-4e0d-f894-00565e957c29"
      },
      "outputs": [
        {
          "data": {
            "image/png": "[encoded data removed]",
            "text/plain": [
              "<Figure size 720x576 with 2 Axes>"
            ]
          },
          "metadata": {
            "needs_background": "light"
          },
          "output_type": "display_data"
        }
      ],
      "source": [
        "features = list(set(df_train.columns.values) - set(['id',\"object_img\"]))\n",
        "\n",
        "_ = df_train[features].hist(figsize=(10,8))"
      ]
    },
    {
      "cell_type": "code",
      "execution_count": 22,
      "metadata": {
        "colab": {
          "base_uri": "https://localhost:8080/",
          "height": 850
        },
        "id": "3ixejC073U26",
        "outputId": "721f890b-1da9-4bf1-c58b-9d04fc9dec5c"
      },
      "outputs": [
        {
          "data": {
            "image/png": "[encoded data removed]",
            "text/plain": [
              "<Figure size 1080x1080 with 2 Axes>"
            ]
          },
          "metadata": {
            "needs_background": "light"
          },
          "output_type": "display_data"
        }
      ],
      "source": [
        "plt.rcParams['figure.figsize']=(15,15)\n",
        "\n",
        "g = sns.heatmap(df_train.corr(), square = True, annot=True)"
      ]
    },
    {
      "cell_type": "markdown",
      "metadata": {
        "id": "870l_9AGdTvF"
      },
      "source": [
        "## Выделим выборки"
      ]
    },
    {
      "cell_type": "code",
      "execution_count": 23,
      "metadata": {
        "id": "R4fN_sD-dGSG"
      },
      "outputs": [],
      "source": [
        "X = df_train.drop([\"description\",\"object_img\",'id'], axis = 1)\n",
        "y = df_train['object_img']"
      ]
    },
    {
      "cell_type": "code",
      "execution_count": 24,
      "metadata": {
        "colab": {
          "base_uri": "https://localhost:8080/"
        },
        "id": "Xbgef81UdZJL",
        "outputId": "f8e86981-f80b-400d-a101-b9858c27ff11"
      },
      "outputs": [
        {
          "name": "stdout",
          "output_type": "stream",
          "text": [
            "<class 'pandas.core.frame.DataFrame'>\n",
            "RangeIndex: 2098 entries, 0 to 2097\n",
            "Data columns (total 2 columns):\n",
            " #   Column           Non-Null Count  Dtype\n",
            "---  ------           --------------  -----\n",
            " 0   len_description  2098 non-null   int64\n",
            " 1   object           2098 non-null   int8 \n",
            "dtypes: int64(1), int8(1)\n",
            "memory usage: 18.6 KB\n"
          ]
        }
      ],
      "source": [
        "X.info()"
      ]
    },
    {
      "cell_type": "code",
      "execution_count": 25,
      "metadata": {
        "id": "_e7ZJ3QjdZLW"
      },
      "outputs": [],
      "source": [
        "X_train, X_test, y_train, y_test = train_test_split(X, y, test_size=0.3, random_state=42)"
      ]
    },
    {
      "cell_type": "markdown",
      "metadata": {
        "id": "fZAT_G9gwpn5"
      },
      "source": [
        "## Работа с моделью "
      ]
    },
    {
      "cell_type": "code",
      "execution_count": 26,
      "metadata": {
        "id": "92PS6bNo3Lpb"
      },
      "outputs": [],
      "source": [
        "from sklearn.linear_model import LinearRegression"
      ]
    },
    {
      "cell_type": "code",
      "execution_count": 28,
      "metadata": {
        "id": "vIpST54l3Lrd"
      },
      "outputs": [],
      "source": [
        "reg = LinearRegression().fit(X, y)"
      ]
    },
    {
      "cell_type": "markdown",
      "metadata": {
        "id": "vUPON7vxenEJ"
      },
      "source": [
        "## Оценка точности"
      ]
    },
    {
      "cell_type": "code",
      "execution_count": 29,
      "metadata": {
        "id": "m1g031fzexib"
      },
      "outputs": [],
      "source": [
        "pred = reg.predict(X_test)"
      ]
    },
    {
      "cell_type": "code",
      "execution_count": 30,
      "metadata": {
        "colab": {
          "base_uri": "https://localhost:8080/"
        },
        "id": "kBiihKwKe9AB",
        "outputId": "263d1521-4eed-4b98-fe71-81c620d2363c"
      },
      "outputs": [
        {
          "data": {
            "text/plain": [
              "1005    1416\n",
              "1078    2654\n",
              "67      1836\n",
              "Name: object_img, dtype: int64"
            ]
          },
          "execution_count": 30,
          "metadata": {},
          "output_type": "execute_result"
        }
      ],
      "source": [
        "y_test.head(3)"
      ]
    },
    {
      "cell_type": "code",
      "execution_count": 31,
      "metadata": {
        "colab": {
          "base_uri": "https://localhost:8080/"
        },
        "id": "OaySnwRzejpc",
        "outputId": "10d5e43a-8c20-4fc0-8013-23ffb16d2632"
      },
      "outputs": [
        {
          "name": "stdout",
          "output_type": "stream",
          "text": [
            "R2 score: 0.3072931022741474\n"
          ]
        }
      ],
      "source": [
        "from sklearn.metrics import r2_score\n",
        "\n",
        "print(\"R2 score:\", r2_score(y_test, pred))"
      ]
    },
    {
      "cell_type": "code",
      "execution_count": null,
      "metadata": {},
      "outputs": [],
      "source": []
    }
  ],
  "metadata": {
    "colab": {
      "collapsed_sections": [],
      "provenance": []
    },
    "kernelspec": {
      "display_name": "Python 3.6.9 64-bit",
      "language": "python",
      "name": "python3"
    },
    "language_info": {
      "codemirror_mode": {
        "name": "ipython",
        "version": 3
      },
      "file_extension": ".py",
      "mimetype": "text/x-python",
      "name": "python",
      "nbconvert_exporter": "python",
      "pygments_lexer": "ipython3",
      "version": "3.6.9"
    },
    "vscode": {
      "interpreter": {
        "hash": "767d51c1340bd893661ea55ea3124f6de3c7a262a8b4abca0554b478b1e2ff90"
      }
    }
  },
  "nbformat": 4,
  "nbformat_minor": 0
}
