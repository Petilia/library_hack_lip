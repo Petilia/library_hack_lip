{
 "cells": [
  {
   "cell_type": "code",
   "execution_count": 1,
   "metadata": {},
   "outputs": [],
   "source": [
    "import pandas as pd\n",
    "import numpy as np\n",
    "import torch\n",
    "import os\n",
    "import sys\n",
    "sys.path.append(\"/home/docker_current/py_files/MLCLIP_exp\")\n",
    "sys.path.append(\"/home/docker_current/py_files/finetune_exp/metaclip_arch\")\n",
    "sys.path.append(\"/home/docker_current/py_files/utils\")\n",
    "from MLCLIP_utils import get_text_encode_model, get_image_encode_model\n",
    "\n",
    "device = \"cuda:1\" if torch.cuda.is_available() else \"cpu\""
   ]
  },
  {
   "cell_type": "code",
   "execution_count": 2,
   "metadata": {},
   "outputs": [
    {
     "name": "stderr",
     "output_type": "stream",
     "text": [
      "Some weights of the model checkpoint at xlm-roberta-large were not used when initializing XLMRobertaModel: ['lm_head.layer_norm.bias', 'lm_head.dense.weight', 'lm_head.decoder.weight', 'lm_head.layer_norm.weight', 'lm_head.dense.bias', 'lm_head.bias']\n",
      "- This IS expected if you are initializing XLMRobertaModel from the checkpoint of a model trained on another task or with another architecture (e.g. initializing a BertForSequenceClassification model from a BertForPreTraining model).\n",
      "- This IS NOT expected if you are initializing XLMRobertaModel from the checkpoint of a model that you expect to be exactly identical (initializing a BertForSequenceClassification model from a BertForSequenceClassification model).\n"
     ]
    }
   ],
   "source": [
    "from MLCLIP import MLCLIPPredictor\n",
    "predictor = MLCLIPPredictor()\n",
    "\n",
    "# metaclip_model = MetaCLIP(ratio=0.5)\n",
    "# path_weights = \"./weights/ruclip_v5.pth\""
   ]
  },
  {
   "cell_type": "code",
   "execution_count": 3,
   "metadata": {},
   "outputs": [],
   "source": [
    "df_test = pd.read_csv(\"/home/docker_current/datasets/test.csv\")\n",
    "df_test['text_features'] = None\n",
    "df_test['object_img'] = None\n",
    "\n",
    "# считываем тестовые изображения, делаем словарь с эмбеддингами\n",
    "test_images = [i.split('.png')[0] for i in os.listdir(\"/home/docker_current/datasets/train\")]\n",
    "test_embed = {i:None for i in test_images}"
   ]
  },
  {
   "cell_type": "code",
   "execution_count": 4,
   "metadata": {},
   "outputs": [
    {
     "data": {
      "application/vnd.jupyter.widget-view+json": {
       "model_id": "965b0813bf584704826750d643170340",
       "version_major": 2,
       "version_minor": 0
      },
      "text/plain": [
       "  0%|          | 0/900 [00:00<?, ?it/s]"
      ]
     },
     "metadata": {},
     "output_type": "display_data"
    },
    {
     "name": "stderr",
     "output_type": "stream",
     "text": [
      "/usr/local/lib/python3.6/dist-packages/ipykernel_launcher.py:9: SettingWithCopyWarning: \n",
      "A value is trying to be set on a copy of a slice from a DataFrame\n",
      "\n",
      "See the caveats in the documentation: https://pandas.pydata.org/pandas-docs/stable/user_guide/indexing.html#returning-a-view-versus-a-copy\n",
      "  if __name__ == '__main__':\n"
     ]
    }
   ],
   "source": [
    "from tqdm.notebook import tqdm\n",
    "\n",
    "for ind_text in tqdm(range(len(df_test))):\n",
    "    text = df_test['description'][ind_text]\n",
    "    text_features = predictor.inference_text(text)\n",
    "    text_features = torch.Tensor(text_features)\n",
    "    # with torch.no_grad():\n",
    "    #     text_features = metaclip_model.encode_image(text_features.to(device)).cpu().detach().numpy()\n",
    "    df_test['text_features'][ind_text] = text_features"
   ]
  },
  {
   "cell_type": "code",
   "execution_count": 5,
   "metadata": {},
   "outputs": [
    {
     "data": {
      "application/vnd.jupyter.widget-view+json": {
       "model_id": "feaca31a6fdb4e3e96b7624713da4255",
       "version_major": 2,
       "version_minor": 0
      },
      "text/plain": [
       "  0%|          | 0/2098 [00:00<?, ?it/s]"
      ]
     },
     "metadata": {},
     "output_type": "display_data"
    }
   ],
   "source": [
    "from PIL import Image\n",
    "\n",
    "for name_image in tqdm(test_embed.keys()):\n",
    "    sample_image_path = \"/home/docker_current/datasets/train/\" + str(name_image) + \".png\"\n",
    "    image = Image.open(sample_image_path)\n",
    "    image_features = predictor.inference_image(image)\n",
    "    image_features = torch.Tensor(image_features)\n",
    "    # with torch.no_grad():\n",
    "    #     image_features = metaclip_model.encode_text(image_features.to(device)).cpu().detach().numpy()\n",
    "    test_embed[name_image] = image_features"
   ]
  },
  {
   "cell_type": "code",
   "execution_count": 12,
   "metadata": {},
   "outputs": [],
   "source": [
    "from copy import deepcopy\n",
    "copy_test_embed = deepcopy(test_embed)"
   ]
  },
  {
   "cell_type": "code",
   "execution_count": 13,
   "metadata": {},
   "outputs": [],
   "source": [
    "cos = torch.nn.CosineSimilarity(dim=1, eps=1e-6)\n",
    "\n",
    "def get_similarity(image_emb, text_emb):\n",
    "    sim =cos(torch.Tensor(image_emb), \n",
    "                        torch.Tensor(text_emb))\n",
    "    return sim"
   ]
  },
  {
   "cell_type": "code",
   "execution_count": 15,
   "metadata": {},
   "outputs": [
    {
     "data": {
      "application/vnd.jupyter.widget-view+json": {
       "model_id": "df313b5703b740699d46448e53a6817a",
       "version_major": 2,
       "version_minor": 0
      },
      "text/plain": [
       "  0%|          | 0/900 [00:00<?, ?it/s]"
      ]
     },
     "metadata": {},
     "output_type": "display_data"
    }
   ],
   "source": [
    "preds = []\n",
    "\n",
    "for ind_text in tqdm(range(len(df_test))):\n",
    "\n",
    "    sims = []\n",
    "    for image_name in copy_test_embed.keys():\n",
    "        sim = get_similarity(copy_test_embed[image_name], \n",
    "                                    df_test['text_features'][ind_text])\n",
    "        sims.append(sim)\n",
    "\n",
    "    sims = np.array(sims)\n",
    "    ind_max = np.argmax(sims)\n",
    "    match_image = list(copy_test_embed.keys())[ind_max]\n",
    "    preds.append(match_image)\n",
    "    # del copy_test_embed[match_image]"
   ]
  },
  {
   "cell_type": "code",
   "execution_count": 17,
   "metadata": {},
   "outputs": [],
   "source": [
    "submit = pd.read_csv('/home/docker_current/py_files/sample_solution.csv')\n",
    "submit['object_img'] = preds\n",
    "submit['object_img'] = submit['object_img'].astype(np.int64)\n",
    "submit.to_csv('./submits/dummy_2_repeat.csv', index=False)"
   ]
  },
  {
   "cell_type": "code",
   "execution_count": 16,
   "metadata": {},
   "outputs": [
    {
     "data": {
      "text/plain": [
       "2098"
      ]
     },
     "execution_count": 16,
     "metadata": {},
     "output_type": "execute_result"
    }
   ],
   "source": [
    "len(copy_test_embed.keys())"
   ]
  },
  {
   "cell_type": "code",
   "execution_count": null,
   "metadata": {},
   "outputs": [],
   "source": []
  }
 ],
 "metadata": {
  "kernelspec": {
   "display_name": "Python 3.6.9 64-bit",
   "language": "python",
   "name": "python3"
  },
  "language_info": {
   "codemirror_mode": {
    "name": "ipython",
    "version": 3
   },
   "file_extension": ".py",
   "mimetype": "text/x-python",
   "name": "python",
   "nbconvert_exporter": "python",
   "pygments_lexer": "ipython3",
   "version": "3.6.9"
  },
  "orig_nbformat": 4,
  "vscode": {
   "interpreter": {
    "hash": "767d51c1340bd893661ea55ea3124f6de3c7a262a8b4abca0554b478b1e2ff90"
   }
  }
 },
 "nbformat": 4,
 "nbformat_minor": 2
}
