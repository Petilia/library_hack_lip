{
 "cells": [
  {
   "cell_type": "code",
   "execution_count": 61,
   "metadata": {},
   "outputs": [],
   "source": [
    "import numpy as np\n",
    "import matplotlib.pyplot as plt\n",
    "from sklearn.model_selection import train_test_split\n",
    "\n",
    "import torch\n",
    "import torch.nn as nn\n",
    "import torch.optim as optim\n",
    "from torch.nn import functional as F\n",
    "from torch.optim import lr_scheduler\n",
    "from torch.utils.data import TensorDataset, DataLoader\n",
    "from torch.cuda.amp import GradScaler\n",
    "from open_clip import ClipLoss\n",
    "\n",
    "import sys\n",
    "sys.path.append(\"/home/docker_current/py_files/finetune_exp/metaclip_arch\")\n",
    "sys.path.append('/home/docker_current/py_files/utils')\n",
    "from metaclip_train import train_one_epoch, evaluate\n",
    "from metaclip_train import cosine_lr"
   ]
  },
  {
   "cell_type": "code",
   "execution_count": 62,
   "metadata": {},
   "outputs": [
    {
     "name": "stdout",
     "output_type": "stream",
     "text": [
      "(1573, 768)\n"
     ]
    }
   ],
   "source": [
    "base_emb_path = \"/home/docker_current/py_files/embeddings/\"\n",
    "name_emb_file = base_emb_path + \"ruclip_vit_large_patch14-336.npy\"\n",
    "\n",
    "with open(name_emb_file, 'rb') as f:\n",
    "    text_feat_array = np.load(f)\n",
    "    image_feat_array = np.load(f)\n",
    "\n",
    "X_train, X_test, y_train, y_test = train_test_split(text_feat_array, image_feat_array, \n",
    "                                                        test_size=0.25, random_state=42)\n",
    "\n",
    "you_are_stupid = False\n",
    "\n",
    "if you_are_stupid:\n",
    "    X_train, y_train  = np.vstack((X_train, y_train)), np.vstack((y_train, X_train))\n",
    "    print(\"you are stupid\")\n",
    "\n",
    "print(X_train.shape)"
   ]
  },
  {
   "cell_type": "code",
   "execution_count": 63,
   "metadata": {},
   "outputs": [],
   "source": [
    "X_train_t = torch.FloatTensor(X_train) \n",
    "y_train_t = torch.FloatTensor(y_train) \n",
    "X_val_t = torch.FloatTensor(X_test) \n",
    "y_val_t = torch.FloatTensor(y_test) \n",
    "\n",
    "train_dataset = TensorDataset(X_train_t, y_train_t)\n",
    "val_dataset = TensorDataset(X_val_t, y_val_t)"
   ]
  },
  {
   "cell_type": "code",
   "execution_count": 64,
   "metadata": {},
   "outputs": [],
   "source": [
    "class SampleData():\n",
    "    def __init__(self, dataset, batch_size):\n",
    "        self.dataloader = DataLoader(dataset, batch_size=batch_size)\n",
    "        self.dataloader.num_samples = len(dataset)\n",
    "        self.dataloader.num_batches = len(self.dataloader)\n",
    "\n",
    "class Args:\n",
    "    device = 'cuda:0'\n",
    "    precision = 'amp'\n",
    "    local_loss = True\n",
    "    gather_with_grad = True\n",
    "    rank = 0\n",
    "    world_size = 1\n",
    "    horovod = False\n",
    "    norm_gradient_clip = None\n",
    "    batch_size = 64\n",
    "    wandb = False\n",
    "    val_frequency = 5\n",
    "    save_logs = False\n",
    "    epochs = 200\n",
    "    lr = 0.5e-4\n",
    "\n",
    "args = Args()\n",
    "writer = None\n",
    "\n",
    "data = {}\n",
    "data['train'] = SampleData(train_dataset, args.batch_size)\n",
    "data['val'] = SampleData(val_dataset, args.batch_size)"
   ]
  },
  {
   "cell_type": "code",
   "execution_count": 65,
   "metadata": {},
   "outputs": [
    {
     "data": {
      "text/plain": [
       "MetaCLIP(\n",
       "  (encode_image): ImageEncoder(\n",
       "    (fc1): Linear(in_features=768, out_features=1380, bias=True)\n",
       "    (fc2): Linear(in_features=1380, out_features=768, bias=True)\n",
       "  )\n",
       "  (encode_text): TextEncoder(\n",
       "    (fc1): Linear(in_features=768, out_features=1380, bias=True)\n",
       "    (fc2): Linear(in_features=1380, out_features=768, bias=True)\n",
       "  )\n",
       ")"
      ]
     },
     "execution_count": 65,
     "metadata": {},
     "output_type": "execute_result"
    }
   ],
   "source": [
    "from metaclip_v3 import MetaCLIP\n",
    "\n",
    "model = MetaCLIP()\n",
    "model.to(args.device)\n",
    "\n",
    "optimizer = optim.AdamW(model.parameters(), lr=args.lr)\n",
    "scaler = GradScaler() if args.precision == \"amp\" else None\n",
    "\n",
    "total_steps = data[\"train\"].dataloader.num_batches * args.epochs\n",
    "scheduler = cosine_lr(optimizer, args.lr, 15, total_steps)\n",
    "\n",
    "model"
   ]
  },
  {
   "cell_type": "code",
   "execution_count": 66,
   "metadata": {},
   "outputs": [
    {
     "name": "stdout",
     "output_type": "stream",
     "text": [
      "epoch  0 model loaded with best loss  tensor(2.8374, device='cuda:0')\n",
      "epoch  1 model loaded with best loss  tensor(1.4556, device='cuda:0')\n",
      "epoch  2 model loaded with best loss  tensor(1.1839, device='cuda:0')\n",
      "epoch  3 model loaded with best loss  tensor(1.0753, device='cuda:0')\n",
      "epoch  4 model loaded with best loss  tensor(1.0099, device='cuda:0')\n",
      "epoch  5 model loaded with best loss  tensor(0.9649, device='cuda:0')\n",
      "epoch  6 model loaded with best loss  tensor(0.9332, device='cuda:0')\n",
      "epoch  7 model loaded with best loss  tensor(0.9084, device='cuda:0')\n",
      "epoch  8 model loaded with best loss  tensor(0.8894, device='cuda:0')\n",
      "epoch  9 model loaded with best loss  tensor(0.8762, device='cuda:0')\n",
      "epoch  10 model loaded with best loss  tensor(0.8680, device='cuda:0')\n",
      "epoch  11 model loaded with best loss  tensor(0.8645, device='cuda:0')\n",
      "epoch  12 model loaded with best loss  tensor(0.8620, device='cuda:0')\n",
      "epoch  13 model loaded with best loss  tensor(0.8610, device='cuda:0')\n",
      "epoch  14 model loaded with best loss  tensor(0.8606, device='cuda:0')\n"
     ]
    }
   ],
   "source": [
    "# from tqdm.notebook import tqdm\n",
    "\n",
    "start_epoch = 0\n",
    "completed_epoch = 0\n",
    "\n",
    "best_val_loss = 1e6\n",
    "val_losses = []\n",
    "\n",
    "for epoch in range(start_epoch, args.epochs):\n",
    " \n",
    "    train_one_epoch(model, data, epoch, optimizer, scaler, scheduler, args, writer)\n",
    "    val_loss = evaluate(model, data, completed_epoch, args, writer)\n",
    "    val_losses.append(val_loss)\n",
    "\n",
    "    if val_loss < best_val_loss:\n",
    "        best_val_loss = val_loss\n",
    "        torch.save(model.state_dict(), './weights/ruclip_v5.pth')\n",
    "        print(\"epoch \", epoch, \"model loaded with best loss \", best_val_loss)\n",
    "    \n",
    "    completed_epoch = epoch + 1"
   ]
  },
  {
   "cell_type": "code",
   "execution_count": null,
   "metadata": {},
   "outputs": [],
   "source": []
  }
 ],
 "metadata": {
  "kernelspec": {
   "display_name": "Python 3.6.9 64-bit",
   "language": "python",
   "name": "python3"
  },
  "language_info": {
   "codemirror_mode": {
    "name": "ipython",
    "version": 3
   },
   "file_extension": ".py",
   "mimetype": "text/x-python",
   "name": "python",
   "nbconvert_exporter": "python",
   "pygments_lexer": "ipython3",
   "version": "3.6.9"
  },
  "orig_nbformat": 4,
  "vscode": {
   "interpreter": {
    "hash": "767d51c1340bd893661ea55ea3124f6de3c7a262a8b4abca0554b478b1e2ff90"
   }
  }
 },
 "nbformat": 4,
 "nbformat_minor": 2
}
