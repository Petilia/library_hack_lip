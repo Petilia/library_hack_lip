{
 "cells": [
  {
   "cell_type": "code",
   "execution_count": 1,
   "metadata": {},
   "outputs": [],
   "source": [
    "import numpy as np\n",
    "import matplotlib.pyplot as plt\n",
    "from sklearn.model_selection import train_test_split\n",
    "\n",
    "import torch\n",
    "import torch.nn as nn\n",
    "import torch.optim as optim\n",
    "from torch.nn import functional as F\n",
    "from torch.optim import lr_scheduler\n",
    "from torch.utils.data import TensorDataset, DataLoader\n",
    "from torch.cuda.amp import GradScaler\n",
    "from open_clip import ClipLoss\n",
    "\n",
    "import sys\n",
    "sys.path.append(\"/home/docker_current/py_files/finetune_exp/metaclip_arch\")\n",
    "sys.path.append('/home/docker_current/py_files/utils')\n",
    "from metaclip_train import train_one_epoch, evaluate\n",
    "from metaclip_train import cosine_lr"
   ]
  },
  {
   "cell_type": "code",
   "execution_count": 2,
   "metadata": {},
   "outputs": [],
   "source": [
    "def load_embed(path, you_are_stupid=False, test_size=0.25):\n",
    "    with open(path, 'rb') as f:\n",
    "        text_feat_array = np.load(f)\n",
    "        image_feat_array = np.load(f)\n",
    "\n",
    "    X_train, X_test, y_train, y_test = train_test_split(text_feat_array, image_feat_array, \n",
    "                                                            test_size=test_size, random_state=42)\n",
    "\n",
    "    if you_are_stupid:\n",
    "        X_train, y_train  = np.vstack((X_train, y_train)), np.vstack((y_train, X_train))\n",
    "        print(\"you are stupid\")\n",
    "    \n",
    "    print(\"Shape X_train = \", X_train.shape)\n",
    "\n",
    "    return X_train, X_test, y_train, y_test "
   ]
  },
  {
   "cell_type": "code",
   "execution_count": 4,
   "metadata": {},
   "outputs": [
    {
     "name": "stdout",
     "output_type": "stream",
     "text": [
      "Shape X_train =  (1573, 1024)\n",
      "Shape X_train =  (1573, 768)\n",
      "Shape =  (1573, 1792)\n"
     ]
    }
   ],
   "source": [
    "base_emb_path = \"/home/docker_current/py_files/embeddings/\"\n",
    "\n",
    "name_emb_file_trans = base_emb_path + \"trans_clip.npy\"\n",
    "X_train_trans, X_test_trans, y_train_trans, y_test_trans = load_embed(name_emb_file_trans)\n",
    "\n",
    "name_emb_file_miltilang = base_emb_path + \"Roberta_Large_Vit_L_14.npy\"\n",
    "X_train_ml, X_test_ml, y_train_ml, y_test_ml = load_embed(name_emb_file_miltilang)\n",
    "\n",
    "X_train = np.hstack((X_train_trans, X_train_ml))\n",
    "X_test = np.hstack((X_test_trans, X_test_ml))\n",
    "y_train = np.hstack((y_train_trans, y_train_ml))\n",
    "y_test = np.hstack((y_test_trans, y_test_ml))\n",
    "\n",
    "print('Shape = ', X_train.shape)"
   ]
  },
  {
   "cell_type": "code",
   "execution_count": 15,
   "metadata": {},
   "outputs": [
    {
     "data": {
      "text/plain": [
       "(1573, 2048)"
      ]
     },
     "execution_count": 15,
     "metadata": {},
     "output_type": "execute_result"
    }
   ],
   "source": [
    "np.hstack((X_train, X_train,)).shape"
   ]
  },
  {
   "cell_type": "code",
   "execution_count": null,
   "metadata": {},
   "outputs": [],
   "source": []
  },
  {
   "cell_type": "code",
   "execution_count": null,
   "metadata": {},
   "outputs": [],
   "source": []
  }
 ],
 "metadata": {
  "kernelspec": {
   "display_name": "Python 3.6.9 64-bit",
   "language": "python",
   "name": "python3"
  },
  "language_info": {
   "codemirror_mode": {
    "name": "ipython",
    "version": 3
   },
   "file_extension": ".py",
   "mimetype": "text/x-python",
   "name": "python",
   "nbconvert_exporter": "python",
   "pygments_lexer": "ipython3",
   "version": "3.6.9"
  },
  "orig_nbformat": 4,
  "vscode": {
   "interpreter": {
    "hash": "767d51c1340bd893661ea55ea3124f6de3c7a262a8b4abca0554b478b1e2ff90"
   }
  }
 },
 "nbformat": 4,
 "nbformat_minor": 2
}
