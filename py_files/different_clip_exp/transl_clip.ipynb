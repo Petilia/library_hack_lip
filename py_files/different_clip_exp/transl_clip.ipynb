{
 "cells": [
  {
   "cell_type": "code",
   "execution_count": 1,
   "metadata": {},
   "outputs": [],
   "source": [
    "import numpy as np\n",
    "import matplotlib.pyplot as plt\n",
    "from sklearn.model_selection import train_test_split\n",
    "\n",
    "import torch\n",
    "import torch.nn as nn\n",
    "import torch.optim as optim\n",
    "from torch.nn import functional as F\n",
    "from torch.optim import lr_scheduler\n",
    "from torch.utils.data import TensorDataset, DataLoader\n",
    "from torch.cuda.amp import GradScaler\n",
    "from open_clip import ClipLoss\n",
    "\n",
    "import sys\n",
    "sys.path.append(\"/home/docker_current/py_files/finetune_exp/metaclip_arch\")\n",
    "sys.path.append('/home/docker_current/py_files/utils')\n",
    "from metaclip_train import train_one_epoch, evaluate\n",
    "from metaclip_train import cosine_lr"
   ]
  },
  {
   "cell_type": "code",
   "execution_count": 3,
   "metadata": {},
   "outputs": [
    {
     "name": "stdout",
     "output_type": "stream",
     "text": [
      "you are stupid\n",
      "(4194, 1024)\n"
     ]
    }
   ],
   "source": [
    "base_emb_path = \"/home/docker_current/py_files/embeddings/\"\n",
    "name_emb_file = base_emb_path + \"trans_clip.npy\"\n",
    "\n",
    "with open(name_emb_file, 'rb') as f:\n",
    "    text_feat_array = np.load(f)\n",
    "    image_feat_array = np.load(f)\n",
    "\n",
    "X_train, X_test, y_train, y_test = train_test_split(text_feat_array, image_feat_array, \n",
    "                                                        test_size=0.25, random_state=42)\n",
    "\n",
    "you_are_stupid = False\n",
    "\n",
    "if you_are_stupid:\n",
    "    X_train, y_train  = np.vstack((X_train, y_train)), np.vstack((y_train, X_train))\n",
    "    print(\"you are stupid\")\n",
    "\n",
    "print(X_train.shape)"
   ]
  },
  {
   "cell_type": "code",
   "execution_count": 4,
   "metadata": {},
   "outputs": [],
   "source": [
    "X_train_t = torch.FloatTensor(X_train) \n",
    "y_train_t = torch.FloatTensor(y_train) \n",
    "X_val_t = torch.FloatTensor(X_test) \n",
    "y_val_t = torch.FloatTensor(y_test) \n",
    "\n",
    "train_dataset = TensorDataset(X_train_t, y_train_t)\n",
    "val_dataset = TensorDataset(X_val_t, y_val_t)"
   ]
  },
  {
   "cell_type": "code",
   "execution_count": 5,
   "metadata": {},
   "outputs": [],
   "source": [
    "class SampleData():\n",
    "    def __init__(self, dataset, batch_size):\n",
    "        self.dataloader = DataLoader(dataset, batch_size=batch_size)\n",
    "        self.dataloader.num_samples = len(dataset)\n",
    "        self.dataloader.num_batches = len(self.dataloader)\n",
    "\n",
    "class Args:\n",
    "    device = 'cuda:0'\n",
    "    precision = 'amp'\n",
    "    local_loss = False\n",
    "    gather_with_grad = False\n",
    "    rank = 0\n",
    "    world_size = 1\n",
    "    horovod = False\n",
    "    norm_gradient_clip = None\n",
    "    batch_size = 64\n",
    "    wandb = False\n",
    "    val_frequency = 5\n",
    "    save_logs = False\n",
    "    epochs = 200\n",
    "    lr = 0.5e-4\n",
    "\n",
    "args = Args()\n",
    "writer = None\n",
    "\n",
    "data = {}\n",
    "data['train'] = SampleData(train_dataset, args.batch_size)\n",
    "data['val'] = SampleData(val_dataset, args.batch_size)"
   ]
  },
  {
   "cell_type": "code",
   "execution_count": 6,
   "metadata": {},
   "outputs": [
    {
     "data": {
      "text/plain": [
       "MetaCLIP(\n",
       "  (encode_image): ImageEncoder(\n",
       "    (fc1): Linear(in_features=1024, out_features=1380, bias=True)\n",
       "    (fc2): Linear(in_features=1380, out_features=1024, bias=True)\n",
       "  )\n",
       "  (encode_text): TextEncoder(\n",
       "    (fc1): Linear(in_features=1024, out_features=1380, bias=True)\n",
       "    (fc2): Linear(in_features=1380, out_features=1024, bias=True)\n",
       "  )\n",
       ")"
      ]
     },
     "execution_count": 6,
     "metadata": {},
     "output_type": "execute_result"
    }
   ],
   "source": [
    "from transclip_v1 import MetaCLIP\n",
    "\n",
    "model = MetaCLIP()\n",
    "model.to(args.device)\n",
    "\n",
    "optimizer = optim.AdamW(model.parameters(), lr=args.lr)\n",
    "scaler = GradScaler() if args.precision == \"amp\" else None\n",
    "\n",
    "total_steps = data[\"train\"].dataloader.num_batches * args.epochs\n",
    "scheduler = cosine_lr(optimizer, args.lr, 15, total_steps)\n",
    "\n",
    "model"
   ]
  },
  {
   "cell_type": "code",
   "execution_count": 7,
   "metadata": {},
   "outputs": [
    {
     "name": "stdout",
     "output_type": "stream",
     "text": [
      "epoch  0 model loaded with best loss  1000000.0\n",
      "epoch  1 model loaded with best loss  1000000.0\n",
      "epoch  2 model loaded with best loss  1000000.0\n",
      "epoch  3 model loaded with best loss  1000000.0\n",
      "epoch  4 model loaded with best loss  1000000.0\n",
      "epoch  5 model loaded with best loss  1000000.0\n",
      "epoch  6 model loaded with best loss  1000000.0\n",
      "epoch  7 model loaded with best loss  1000000.0\n",
      "epoch  8 model loaded with best loss  1000000.0\n",
      "epoch  9 model loaded with best loss  1000000.0\n",
      "epoch  10 model loaded with best loss  1000000.0\n",
      "epoch  11 model loaded with best loss  1000000.0\n",
      "epoch  12 model loaded with best loss  1000000.0\n",
      "epoch  13 model loaded with best loss  1000000.0\n",
      "epoch  14 model loaded with best loss  1000000.0\n",
      "epoch  15 model loaded with best loss  1000000.0\n",
      "epoch  16 model loaded with best loss  1000000.0\n",
      "epoch  17 model loaded with best loss  1000000.0\n",
      "epoch  18 model loaded with best loss  1000000.0\n",
      "epoch  19 model loaded with best loss  1000000.0\n",
      "epoch  20 model loaded with best loss  1000000.0\n",
      "epoch  21 model loaded with best loss  1000000.0\n",
      "epoch  22 model loaded with best loss  1000000.0\n",
      "epoch  23 model loaded with best loss  1000000.0\n",
      "epoch  24 model loaded with best loss  1000000.0\n",
      "epoch  25 model loaded with best loss  1000000.0\n",
      "epoch  26 model loaded with best loss  1000000.0\n",
      "epoch  27 model loaded with best loss  1000000.0\n",
      "epoch  28 model loaded with best loss  1000000.0\n",
      "epoch  29 model loaded with best loss  1000000.0\n",
      "epoch  30 model loaded with best loss  1000000.0\n",
      "epoch  31 model loaded with best loss  1000000.0\n",
      "epoch  32 model loaded with best loss  1000000.0\n",
      "epoch  33 model loaded with best loss  1000000.0\n",
      "epoch  34 model loaded with best loss  1000000.0\n",
      "epoch  35 model loaded with best loss  1000000.0\n",
      "epoch  36 model loaded with best loss  1000000.0\n",
      "epoch  37 model loaded with best loss  1000000.0\n",
      "epoch  38 model loaded with best loss  1000000.0\n",
      "epoch  39 model loaded with best loss  1000000.0\n",
      "epoch  40 model loaded with best loss  1000000.0\n",
      "epoch  41 model loaded with best loss  1000000.0\n",
      "epoch  42 model loaded with best loss  1000000.0\n",
      "epoch  43 model loaded with best loss  1000000.0\n",
      "epoch  44 model loaded with best loss  1000000.0\n",
      "epoch  45 model loaded with best loss  1000000.0\n",
      "epoch  46 model loaded with best loss  1000000.0\n",
      "epoch  47 model loaded with best loss  1000000.0\n",
      "epoch  48 model loaded with best loss  1000000.0\n",
      "epoch  49 model loaded with best loss  1000000.0\n",
      "epoch  50 model loaded with best loss  1000000.0\n",
      "epoch  51 model loaded with best loss  1000000.0\n",
      "epoch  52 model loaded with best loss  1000000.0\n",
      "epoch  53 model loaded with best loss  1000000.0\n",
      "epoch  54 model loaded with best loss  1000000.0\n",
      "epoch  55 model loaded with best loss  1000000.0\n",
      "epoch  56 model loaded with best loss  1000000.0\n",
      "epoch  57 model loaded with best loss  1000000.0\n",
      "epoch  58 model loaded with best loss  1000000.0\n",
      "epoch  59 model loaded with best loss  1000000.0\n",
      "epoch  60 model loaded with best loss  1000000.0\n",
      "epoch  61 model loaded with best loss  1000000.0\n",
      "epoch  62 model loaded with best loss  1000000.0\n",
      "epoch  63 model loaded with best loss  1000000.0\n",
      "epoch  64 model loaded with best loss  1000000.0\n",
      "epoch  65 model loaded with best loss  1000000.0\n",
      "epoch  66 model loaded with best loss  1000000.0\n",
      "epoch  67 model loaded with best loss  1000000.0\n",
      "epoch  68 model loaded with best loss  1000000.0\n",
      "epoch  69 model loaded with best loss  1000000.0\n",
      "epoch  70 model loaded with best loss  1000000.0\n",
      "epoch  71 model loaded with best loss  1000000.0\n",
      "epoch  72 model loaded with best loss  1000000.0\n",
      "epoch  73 model loaded with best loss  1000000.0\n",
      "epoch  74 model loaded with best loss  1000000.0\n",
      "epoch  75 model loaded with best loss  1000000.0\n",
      "epoch  76 model loaded with best loss  1000000.0\n",
      "epoch  77 model loaded with best loss  1000000.0\n",
      "epoch  78 model loaded with best loss  1000000.0\n",
      "epoch  79 model loaded with best loss  1000000.0\n",
      "epoch  80 model loaded with best loss  1000000.0\n",
      "epoch  81 model loaded with best loss  1000000.0\n",
      "epoch  82 model loaded with best loss  1000000.0\n",
      "epoch  83 model loaded with best loss  1000000.0\n",
      "epoch  84 model loaded with best loss  1000000.0\n",
      "epoch  85 model loaded with best loss  1000000.0\n",
      "epoch  86 model loaded with best loss  1000000.0\n",
      "epoch  87 model loaded with best loss  1000000.0\n",
      "epoch  88 model loaded with best loss  1000000.0\n",
      "epoch  89 model loaded with best loss  1000000.0\n",
      "epoch  90 model loaded with best loss  1000000.0\n",
      "epoch  91 model loaded with best loss  1000000.0\n",
      "epoch  92 model loaded with best loss  1000000.0\n",
      "epoch  93 model loaded with best loss  1000000.0\n",
      "epoch  94 model loaded with best loss  1000000.0\n",
      "epoch  95 model loaded with best loss  1000000.0\n",
      "epoch  96 model loaded with best loss  1000000.0\n",
      "epoch  97 model loaded with best loss  1000000.0\n",
      "epoch  98 model loaded with best loss  1000000.0\n",
      "epoch  99 model loaded with best loss  1000000.0\n",
      "epoch  100 model loaded with best loss  1000000.0\n"
     ]
    }
   ],
   "source": [
    "# from tqdm.notebook import tqdm\n",
    "\n",
    "start_epoch = 0\n",
    "completed_epoch = 0\n",
    "\n",
    "best_val_loss = 1e6\n",
    "val_losses = []\n",
    "\n",
    "for epoch in range(start_epoch, args.epochs):\n",
    " \n",
    "    train_one_epoch(model, data, epoch, optimizer, scaler, scheduler, args, writer)\n",
    "    val_loss = evaluate(model, data, completed_epoch, args, writer)\n",
    "    val_losses.append(val_loss)\n",
    "\n",
    "    if val_loss < best_val_loss:\n",
    "        best_val_loss = val_loss\n",
    "        torch.save(model.state_dict(), './weights/transclip_v1_pon_full11.pth')\n",
    "        print(\"epoch \", epoch, \"model loaded with best loss \", best_val_loss)\n",
    "    \n",
    "    completed_epoch = epoch + 1"
   ]
  },
  {
   "cell_type": "code",
   "execution_count": 10,
   "metadata": {},
   "outputs": [
    {
     "name": "stdout",
     "output_type": "stream",
     "text": [
      "1.0924335718154907\n"
     ]
    },
    {
     "data": {
      "image/png": "[encoded data removed]",
      "text/plain": [
       "<Figure size 720x576 with 1 Axes>"
      ]
     },
     "metadata": {
      "needs_background": "light"
     },
     "output_type": "display_data"
    }
   ],
   "source": [
    "import matplotlib.pyplot as plt\n",
    "val_losses = [i.tolist() for i in val_losses]\n",
    "plt.figure(figsize=(10, 8))\n",
    "plt.plot(val_losses)\n",
    "print(min(val_losses))"
   ]
  },
  {
   "cell_type": "code",
   "execution_count": null,
   "metadata": {},
   "outputs": [],
   "source": []
  }
 ],
 "metadata": {
  "kernelspec": {
   "display_name": "Python 3.6.9 64-bit",
   "language": "python",
   "name": "python3"
  },
  "language_info": {
   "codemirror_mode": {
    "name": "ipython",
    "version": 3
   },
   "file_extension": ".py",
   "mimetype": "text/x-python",
   "name": "python",
   "nbconvert_exporter": "python",
   "pygments_lexer": "ipython3",
   "version": "3.6.9"
  },
  "orig_nbformat": 4,
  "vscode": {
   "interpreter": {
    "hash": "767d51c1340bd893661ea55ea3124f6de3c7a262a8b4abca0554b478b1e2ff90"
   }
  }
 },
 "nbformat": 4,
 "nbformat_minor": 2
}
