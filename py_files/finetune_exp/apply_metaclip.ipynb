{
 "cells": [
  {
   "cell_type": "code",
   "execution_count": 1,
   "metadata": {},
   "outputs": [],
   "source": [
    "import pandas as pd\n",
    "import numpy as np\n",
    "import torch\n",
    "import os\n",
    "import sys\n",
    "sys.path.append(\"/home/docker_current/py_files/MLCLIP_exp\")\n",
    "from MLCLIP_utils import get_text_encode_model, get_image_encode_model\n",
    "\n",
    "device = \"cuda:1\" if torch.cuda.is_available() else \"cpu\""
   ]
  },
  {
   "cell_type": "code",
   "execution_count": 3,
   "metadata": {},
   "outputs": [
    {
     "data": {
      "text/plain": [
       "MetaCLIP(\n",
       "  (encode_image): ImageEncoder(\n",
       "    (fc1): Linear(in_features=768, out_features=1380, bias=True)\n",
       "    (fc2): Linear(in_features=1380, out_features=768, bias=True)\n",
       "  )\n",
       "  (encode_text): TextEncoder(\n",
       "    (fc1): Linear(in_features=768, out_features=1380, bias=True)\n",
       "    (fc2): Linear(in_features=1380, out_features=768, bias=True)\n",
       "  )\n",
       ")"
      ]
     },
     "execution_count": 3,
     "metadata": {},
     "output_type": "execute_result"
    }
   ],
   "source": [
    "# from metaclip_arch.metaclip_v5 import MetaCLIP\n",
    "\n",
    "# metaclip_model = MetaCLIP(ratio=0.5)\n",
    "# path_weights = \"./weights/metaclip_v5_ratio_05.pth\"\n",
    "\n",
    "from metaclip_arch.metaclip_v3 import MetaCLIP\n",
    "metaclip_model = MetaCLIP()\n",
    "path_weights = \"./weights/metaclip_v3_pon_full_dataset.pth\"\n",
    "\n",
    "metaclip_model.load_state_dict(torch.load(path_weights, map_location=torch.device('cpu')) )\n",
    "metaclip_model.to(device)\n",
    "metaclip_model.eval()\n",
    "\n",
    "# metaclip_model.ratio"
   ]
  },
  {
   "cell_type": "code",
   "execution_count": 4,
   "metadata": {},
   "outputs": [
    {
     "name": "stderr",
     "output_type": "stream",
     "text": [
      "Some weights of the model checkpoint at xlm-roberta-large were not used when initializing XLMRobertaModel: ['lm_head.bias', 'lm_head.decoder.weight', 'lm_head.dense.weight', 'lm_head.dense.bias', 'lm_head.layer_norm.bias', 'lm_head.layer_norm.weight']\n",
      "- This IS expected if you are initializing XLMRobertaModel from the checkpoint of a model trained on another task or with another architecture (e.g. initializing a BertForSequenceClassification model from a BertForPreTraining model).\n",
      "- This IS NOT expected if you are initializing XLMRobertaModel from the checkpoint of a model that you expect to be exactly identical (initializing a BertForSequenceClassification model from a BertForSequenceClassification model).\n"
     ]
    }
   ],
   "source": [
    "from PIL import Image\n",
    "\n",
    "# model_name='M-CLIP/XLM-Roberta-Large-Vit-L-14' # самый первый, он же дефолтный\n",
    "# model_name = 'M-CLIP/XLM-Roberta-Large-Vit-B-32' #2.24 Gb\n",
    "# model_name = 'M-CLIP/XLM-Roberta-Large-Vit-B-16Plus' # Судя по метрикам самый лучший из данного зоопарка\n",
    "\n",
    "image_model, image_preproc = get_image_encode_model()\n",
    "text_model, text_tokenizer = get_text_encode_model()\n",
    "\n",
    "def get_image_features(key):\n",
    "    sample_image_path = \"/home/docker_current/datasets/test/\" + str(key) + \".png\"\n",
    "    image = Image.open(sample_image_path)\n",
    "    image = image_preproc(image).unsqueeze(0).to(device)\n",
    "\n",
    "    with torch.no_grad():\n",
    "        image_features = image_model.encode_image(image)\n",
    "        image_features = image_features.type(torch.cuda.FloatTensor)\n",
    "        # image_features = metaclip_model.encode_image(image_features.to(device)).cpu().detach().numpy()\n",
    "        image_features = metaclip_model.encode_text(image_features.to(device)).cpu().detach().numpy()\n",
    "\n",
    "    return image_features\n",
    "\n",
    "def get_text_features(df, index_text):\n",
    "    sample_text = df['description'][index_text]\n",
    "    text_features = text_model.forward(sample_text, text_tokenizer)\n",
    "    with torch.no_grad():\n",
    "        # text_features = metaclip_model.encode_text(text_features.to(device)).cpu().detach().numpy()\n",
    "        text_features = metaclip_model.encode_image(text_features.to(device)).cpu().detach().numpy()\n",
    "    return text_features "
   ]
  },
  {
   "cell_type": "code",
   "execution_count": 5,
   "metadata": {},
   "outputs": [
    {
     "data": {
      "text/html": [
       "<div>\n",
       "<style scoped>\n",
       "    .dataframe tbody tr th:only-of-type {\n",
       "        vertical-align: middle;\n",
       "    }\n",
       "\n",
       "    .dataframe tbody tr th {\n",
       "        vertical-align: top;\n",
       "    }\n",
       "\n",
       "    .dataframe thead th {\n",
       "        text-align: right;\n",
       "    }\n",
       "</style>\n",
       "<table border=\"1\" class=\"dataframe\">\n",
       "  <thead>\n",
       "    <tr style=\"text-align: right;\">\n",
       "      <th></th>\n",
       "      <th>id</th>\n",
       "      <th>description</th>\n",
       "      <th>text_features</th>\n",
       "      <th>object_img</th>\n",
       "    </tr>\n",
       "  </thead>\n",
       "  <tbody>\n",
       "    <tr>\n",
       "      <th>0</th>\n",
       "      <td>486</td>\n",
       "      <td>Фотография. Елизавета Алексеевна Юманова.  ПКМ...</td>\n",
       "      <td>None</td>\n",
       "      <td>None</td>\n",
       "    </tr>\n",
       "    <tr>\n",
       "      <th>1</th>\n",
       "      <td>813</td>\n",
       "      <td>Фотография. Заседание комитета комсомола мотор...</td>\n",
       "      <td>None</td>\n",
       "      <td>None</td>\n",
       "    </tr>\n",
       "    <tr>\n",
       "      <th>2</th>\n",
       "      <td>2980</td>\n",
       "      <td>Фотография. День \"Саланга\".  ПОКМ-18530/638 фо...</td>\n",
       "      <td>None</td>\n",
       "      <td>None</td>\n",
       "    </tr>\n",
       "  </tbody>\n",
       "</table>\n",
       "</div>"
      ],
      "text/plain": [
       "     id  ... object_img\n",
       "0   486  ...       None\n",
       "1   813  ...       None\n",
       "2  2980  ...       None\n",
       "\n",
       "[3 rows x 4 columns]"
      ]
     },
     "execution_count": 5,
     "metadata": {},
     "output_type": "execute_result"
    }
   ],
   "source": [
    "#считываем датафрейм, добавляем столбик для эмбеддингов\n",
    "# test_images_path = \"/home/docker_current/datasets/test\"\n",
    "df_test = pd.read_csv(\"/home/docker_current/datasets/test.csv\")\n",
    "df_test['text_features'] = None\n",
    "df_test['object_img'] = None\n",
    "\n",
    "# считываем тестовые изображения, делаем словарь с эмбеддингами\n",
    "test_images = [i.split('.png')[0] for i in os.listdir(\"/home/docker_current/datasets/test\")]\n",
    "test_embed = {i:None for i in test_images}\n",
    "\n",
    "df_test.head(3)"
   ]
  },
  {
   "cell_type": "code",
   "execution_count": 6,
   "metadata": {},
   "outputs": [
    {
     "data": {
      "application/vnd.jupyter.widget-view+json": {
       "model_id": "397ee89461014b4490bbcae427dc44dd",
       "version_major": 2,
       "version_minor": 0
      },
      "text/plain": [
       "  0%|          | 0/900 [00:00<?, ?it/s]"
      ]
     },
     "metadata": {},
     "output_type": "display_data"
    },
    {
     "name": "stderr",
     "output_type": "stream",
     "text": [
      "/usr/local/lib/python3.6/dist-packages/ipykernel_launcher.py:4: SettingWithCopyWarning: \n",
      "A value is trying to be set on a copy of a slice from a DataFrame\n",
      "\n",
      "See the caveats in the documentation: https://pandas.pydata.org/pandas-docs/stable/user_guide/indexing.html#returning-a-view-versus-a-copy\n",
      "  after removing the cwd from sys.path.\n"
     ]
    },
    {
     "name": "stdout",
     "output_type": "stream",
     "text": [
      "CPU times: user 1h 20min 52s, sys: 1min 6s, total: 1h 21min 59s\n",
      "Wall time: 11min 24s\n"
     ]
    }
   ],
   "source": [
    "%%time\n",
    "from tqdm.notebook import tqdm\n",
    "\n",
    "for ind_text in tqdm(range(len(df_test))):\n",
    "    df_test['text_features'][ind_text] = get_text_features(df_test, ind_text)"
   ]
  },
  {
   "cell_type": "code",
   "execution_count": 7,
   "metadata": {},
   "outputs": [
    {
     "data": {
      "application/vnd.jupyter.widget-view+json": {
       "model_id": "bd25df09e7d940f3bd1e9ff0588163a9",
       "version_major": 2,
       "version_minor": 0
      },
      "text/plain": [
       "  0%|          | 0/900 [00:00<?, ?it/s]"
      ]
     },
     "metadata": {},
     "output_type": "display_data"
    }
   ],
   "source": [
    "for name_image in tqdm(test_embed.keys()):\n",
    "    test_embed[name_image] = get_image_features(name_image)"
   ]
  },
  {
   "cell_type": "code",
   "execution_count": 8,
   "metadata": {},
   "outputs": [],
   "source": [
    "from copy import deepcopy\n",
    "copy_test_embed = deepcopy(test_embed)"
   ]
  },
  {
   "cell_type": "code",
   "execution_count": 9,
   "metadata": {},
   "outputs": [],
   "source": [
    "cos = torch.nn.CosineSimilarity(dim=1, eps=1e-6)\n",
    "\n",
    "def get_similarity(image_emb, text_emb):\n",
    "    sim =cos(torch.Tensor(image_emb), \n",
    "                        torch.Tensor(text_emb))\n",
    "    return sim"
   ]
  },
  {
   "cell_type": "code",
   "execution_count": 10,
   "metadata": {},
   "outputs": [
    {
     "data": {
      "application/vnd.jupyter.widget-view+json": {
       "model_id": "d45f5bca2c024962a14012ea98df2c30",
       "version_major": 2,
       "version_minor": 0
      },
      "text/plain": [
       "  0%|          | 0/900 [00:00<?, ?it/s]"
      ]
     },
     "metadata": {},
     "output_type": "display_data"
    }
   ],
   "source": [
    "preds = []\n",
    "\n",
    "# ind_text = 0\n",
    "for ind_text in tqdm(range(len(df_test))):\n",
    "\n",
    "    sims = []\n",
    "    for image_name in copy_test_embed.keys():\n",
    "        sim = get_similarity(copy_test_embed[image_name], \n",
    "                                    df_test['text_features'][ind_text])\n",
    "        sims.append(sim)\n",
    "\n",
    "    sims = np.array(sims)\n",
    "    ind_max = np.argmax(sims)\n",
    "    match_image = list(copy_test_embed.keys())[ind_max]\n",
    "    preds.append(match_image)\n",
    "    # del copy_test_embed[match_image]"
   ]
  },
  {
   "cell_type": "code",
   "execution_count": 11,
   "metadata": {},
   "outputs": [
    {
     "data": {
      "text/plain": [
       "900"
      ]
     },
     "execution_count": 11,
     "metadata": {},
     "output_type": "execute_result"
    }
   ],
   "source": [
    "len(copy_test_embed)"
   ]
  },
  {
   "cell_type": "code",
   "execution_count": 12,
   "metadata": {},
   "outputs": [],
   "source": [
    "submit = pd.read_csv('/home/docker_current/py_files/sample_solution.csv')\n",
    "submit['object_img'] = preds\n",
    "submit['object_img'] = submit['object_img'].astype(np.int64)\n",
    "submit.to_csv('./submits/metaclip_v3_pon_symmetr_dataset_full_repeat.csv', index=False)"
   ]
  },
  {
   "cell_type": "code",
   "execution_count": 17,
   "metadata": {},
   "outputs": [
    {
     "data": {
      "text/plain": [
       "479"
      ]
     },
     "execution_count": 17,
     "metadata": {},
     "output_type": "execute_result"
    }
   ],
   "source": [
    "len(set(list(submit['object_img'])))"
   ]
  },
  {
   "cell_type": "code",
   "execution_count": null,
   "metadata": {},
   "outputs": [],
   "source": []
  }
 ],
 "metadata": {
  "kernelspec": {
   "display_name": "Python 3",
   "language": "python",
   "name": "python3"
  },
  "language_info": {
   "codemirror_mode": {
    "name": "ipython",
    "version": 3
   },
   "file_extension": ".py",
   "mimetype": "text/x-python",
   "name": "python",
   "nbconvert_exporter": "python",
   "pygments_lexer": "ipython3",
   "version": "3.6.9"
  },
  "orig_nbformat": 4,
  "vscode": {
   "interpreter": {
    "hash": "767d51c1340bd893661ea55ea3124f6de3c7a262a8b4abca0554b478b1e2ff90"
   }
  }
 },
 "nbformat": 4,
 "nbformat_minor": 2
}
