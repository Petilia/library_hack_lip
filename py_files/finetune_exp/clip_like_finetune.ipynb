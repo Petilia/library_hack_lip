{
 "cells": [
  {
   "cell_type": "code",
   "execution_count": 10,
   "metadata": {},
   "outputs": [],
   "source": [
    "import numpy as np\n",
    "import matplotlib.pyplot as plt\n",
    "from sklearn.model_selection import train_test_split\n",
    "\n",
    "import torch\n",
    "import torch.nn as nn\n",
    "import torch.optim as optim\n",
    "from torch.nn import functional as F\n",
    "from torch.optim import lr_scheduler\n",
    "\n",
    "from open_clip import ClipLoss"
   ]
  },
  {
   "cell_type": "code",
   "execution_count": 11,
   "metadata": {},
   "outputs": [
    {
     "name": "stdout",
     "output_type": "stream",
     "text": [
      "(1573, 768)\n"
     ]
    }
   ],
   "source": [
    "with open('/home/docker_current/py_files/MLCLIP_exp/image_feat_array.npy', 'rb') as f:\n",
    "    image_feat_array = np.load(f)\n",
    "\n",
    "with open('/home/docker_current/py_files/MLCLIP_exp/text_feat_array.npy', 'rb') as f:\n",
    "    text_feat_array = np.load(f)\n",
    "\n",
    "X_train, X_test, y_train, y_test = train_test_split(text_feat_array, image_feat_array, \n",
    "                                                        test_size=0.25, random_state=42)\n",
    "\n",
    "you_are_stupid = False\n",
    "\n",
    "if you_are_stupid:\n",
    "    X_train, y_train  = np.vstack((X_train, y_train)), np.vstack((y_train, X_train))\n",
    "    print(\"you are stupid\")\n",
    "\n",
    "print(X_train.shape)"
   ]
  },
  {
   "cell_type": "code",
   "execution_count": 12,
   "metadata": {},
   "outputs": [],
   "source": [
    "from torch.utils.data import TensorDataset, DataLoader\n",
    "\n",
    "X_train_t = torch.FloatTensor(X_train) \n",
    "y_train_t = torch.FloatTensor(y_train) \n",
    "X_val_t = torch.FloatTensor(X_test) \n",
    "y_val_t = torch.FloatTensor(y_test) \n",
    "\n",
    "train_dataset = TensorDataset(X_train_t, y_train_t)\n",
    "val_dataset = TensorDataset(X_val_t, y_val_t)\n",
    "train_dataloader = DataLoader(train_dataset, batch_size=64)\n",
    "val_dataloader = DataLoader(val_dataset, batch_size=64)\n",
    "\n",
    "loaders = {\"train\": train_dataloader, \"valid\": val_dataloader}"
   ]
  },
  {
   "cell_type": "code",
   "execution_count": 13,
   "metadata": {},
   "outputs": [],
   "source": [
    "class ImageEncoder(nn.Module):\n",
    "    def __init__(self, ratio):\n",
    "        super().__init__()\n",
    "        self.ratio = ratio\n",
    "\n",
    "        self.fc1 = nn.Linear(768, 1380)\n",
    "        self.fc2 = nn.Linear(1380, 768)\n",
    "\n",
    "    def forward(self, input):\n",
    "        x = F.relu(self.fc1(input))\n",
    "        x = self.fc2(x)\n",
    "        x = self.ratio * x + (1 - self.ratio) * input\n",
    "        return x\n",
    "\n",
    "class TextEncoder(nn.Module):\n",
    "    def __init__(self, ratio):\n",
    "        super().__init__()\n",
    "        self.ratio = ratio\n",
    "        \n",
    "        self.fc1 = nn.Linear(768, 1380)\n",
    "        self.fc2 = nn.Linear(1380, 768)\n",
    "\n",
    "    def forward(self, input):\n",
    "        x = F.relu(self.fc1(input))\n",
    "        x = self.fc2(x)\n",
    "        x = self.ratio * x + (1 - self.ratio) * input\n",
    "        return x\n",
    "\n",
    "class MetaCLIP(nn.Module):\n",
    "    def __init__(self, ratio=0.2):\n",
    "        super().__init__()\n",
    "        self.ratio = ratio\n",
    "        self.encode_image = ImageEncoder(self.ratio)\n",
    "        self.encode_text = TextEncoder(self.ratio)\n",
    "        self.logit_scale = nn.Parameter(torch.ones([]) * np.log(1 / 0.07))\n",
    "        \n",
    "\n",
    "    def forward(self, image, text):\n",
    "        #open_clip realization\n",
    "        image_features = self.encode_image(image)\n",
    "        image_features = F.normalize(image_features, dim=-1)\n",
    "\n",
    "        text_features = self.encode_text(text)\n",
    "        text_features = F.normalize(text_features, dim=-1)\n",
    "\n",
    "        return image_features, text_features, self.logit_scale.exp()"
   ]
  },
  {
   "cell_type": "code",
   "execution_count": 14,
   "metadata": {},
   "outputs": [],
   "source": [
    "from torch.cuda.amp import GradScaler\n",
    "from torch import optim\n",
    "import sys\n",
    "sys.path.append('/home/docker_current/py_files/utils')\n",
    "from metaclip_train import train_one_epoch, evaluate\n",
    "from metaclip_train import cosine_lr\n",
    "\n",
    "class SampleData():\n",
    "    def __init__(self, dataset, batch_size):\n",
    "        self.dataloader = DataLoader(dataset, batch_size=batch_size)\n",
    "        self.dataloader.num_samples = len(dataset)\n",
    "        self.dataloader.num_batches = len(self.dataloader)\n",
    "\n",
    "class Args:\n",
    "    device = 'cuda:0'\n",
    "    precision = 'amp'\n",
    "    local_loss = False\n",
    "    gather_with_grad = False\n",
    "    rank = 0\n",
    "    world_size = 1\n",
    "    horovod = False\n",
    "    norm_gradient_clip = None\n",
    "    batch_size = 64\n",
    "    wandb = False\n",
    "    val_frequency = 5\n",
    "    save_logs = False\n",
    "    epochs = 200\n",
    "    lr = 0.35e-4\n",
    "\n",
    "args = Args()\n",
    "\n",
    "data = {}\n",
    "data['train'] = SampleData(train_dataset, args.batch_size)\n",
    "data['val'] = SampleData(val_dataset, args.batch_size)\n",
    "\n",
    "model = MetaCLIP(ratio=0.5)\n",
    "model.to(args.device)\n",
    "\n",
    "optimizer = optim.AdamW(model.parameters(), lr=args.lr)\n",
    "scaler = GradScaler() if args.precision == \"amp\" else None\n",
    "\n",
    "total_steps = data[\"train\"].dataloader.num_batches * args.epochs\n",
    "scheduler = cosine_lr(optimizer, args.lr, 15, total_steps)\n",
    "\n",
    "writer = None"
   ]
  },
  {
   "cell_type": "code",
   "execution_count": 15,
   "metadata": {},
   "outputs": [
    {
     "data": {
      "text/plain": [
       "(MetaCLIP(\n",
       "   (encode_image): ImageEncoder(\n",
       "     (fc1): Linear(in_features=768, out_features=1380, bias=True)\n",
       "     (fc2): Linear(in_features=1380, out_features=768, bias=True)\n",
       "   )\n",
       "   (encode_text): TextEncoder(\n",
       "     (fc1): Linear(in_features=768, out_features=1380, bias=True)\n",
       "     (fc2): Linear(in_features=1380, out_features=768, bias=True)\n",
       "   )\n",
       " ),\n",
       " 0.5)"
      ]
     },
     "execution_count": 15,
     "metadata": {},
     "output_type": "execute_result"
    }
   ],
   "source": [
    "model, model.ratio"
   ]
  },
  {
   "cell_type": "code",
   "execution_count": 16,
   "metadata": {},
   "outputs": [
    {
     "name": "stdout",
     "output_type": "stream",
     "text": [
      "epoch  0 model loaded with best loss  tensor(2.0474, device='cuda:0')\n",
      "epoch  1 model loaded with best loss  tensor(1.6936, device='cuda:0')\n",
      "epoch  2 model loaded with best loss  tensor(1.4478, device='cuda:0')\n",
      "epoch  3 model loaded with best loss  tensor(1.2909, device='cuda:0')\n",
      "epoch  4 model loaded with best loss  tensor(1.1859, device='cuda:0')\n",
      "epoch  5 model loaded with best loss  tensor(1.1074, device='cuda:0')\n",
      "epoch  6 model loaded with best loss  tensor(1.0459, device='cuda:0')\n",
      "epoch  7 model loaded with best loss  tensor(0.9967, device='cuda:0')\n",
      "epoch  8 model loaded with best loss  tensor(0.9566, device='cuda:0')\n",
      "epoch  9 model loaded with best loss  tensor(0.9235, device='cuda:0')\n",
      "epoch  10 model loaded with best loss  tensor(0.8954, device='cuda:0')\n",
      "epoch  11 model loaded with best loss  tensor(0.8712, device='cuda:0')\n",
      "epoch  12 model loaded with best loss  tensor(0.8502, device='cuda:0')\n",
      "epoch  13 model loaded with best loss  tensor(0.8316, device='cuda:0')\n",
      "epoch  14 model loaded with best loss  tensor(0.8153, device='cuda:0')\n",
      "epoch  15 model loaded with best loss  tensor(0.8010, device='cuda:0')\n",
      "epoch  16 model loaded with best loss  tensor(0.7884, device='cuda:0')\n",
      "epoch  17 model loaded with best loss  tensor(0.7775, device='cuda:0')\n",
      "epoch  18 model loaded with best loss  tensor(0.7685, device='cuda:0')\n",
      "epoch  19 model loaded with best loss  tensor(0.7609, device='cuda:0')\n",
      "epoch  20 model loaded with best loss  tensor(0.7546, device='cuda:0')\n",
      "epoch  21 model loaded with best loss  tensor(0.7494, device='cuda:0')\n",
      "epoch  22 model loaded with best loss  tensor(0.7450, device='cuda:0')\n",
      "epoch  23 model loaded with best loss  tensor(0.7410, device='cuda:0')\n",
      "epoch  24 model loaded with best loss  tensor(0.7373, device='cuda:0')\n",
      "epoch  25 model loaded with best loss  tensor(0.7341, device='cuda:0')\n",
      "epoch  26 model loaded with best loss  tensor(0.7310, device='cuda:0')\n",
      "epoch  27 model loaded with best loss  tensor(0.7284, device='cuda:0')\n",
      "epoch  28 model loaded with best loss  tensor(0.7261, device='cuda:0')\n",
      "epoch  29 model loaded with best loss  tensor(0.7238, device='cuda:0')\n",
      "epoch  30 model loaded with best loss  tensor(0.7219, device='cuda:0')\n",
      "epoch  31 model loaded with best loss  tensor(0.7201, device='cuda:0')\n",
      "epoch  32 model loaded with best loss  tensor(0.7185, device='cuda:0')\n",
      "epoch  33 model loaded with best loss  tensor(0.7170, device='cuda:0')\n",
      "epoch  34 model loaded with best loss  tensor(0.7157, device='cuda:0')\n",
      "epoch  35 model loaded with best loss  tensor(0.7145, device='cuda:0')\n",
      "epoch  36 model loaded with best loss  tensor(0.7134, device='cuda:0')\n",
      "epoch  37 model loaded with best loss  tensor(0.7123, device='cuda:0')\n",
      "epoch  38 model loaded with best loss  tensor(0.7115, device='cuda:0')\n"
     ]
    },
    {
     "ename": "KeyboardInterrupt",
     "evalue": "",
     "output_type": "error",
     "traceback": [
      "\u001b[0;31m---------------------------------------------------------------------------\u001b[0m",
      "\u001b[0;31mKeyboardInterrupt\u001b[0m                         Traceback (most recent call last)",
      "\u001b[0;32m<ipython-input-16-ba3f1d5c7209>\u001b[0m in \u001b[0;36m<module>\u001b[0;34m\u001b[0m\n\u001b[1;32m     11\u001b[0m     \u001b[0;31m# logging.info(f'Start epoch {epoch}')\u001b[0m\u001b[0;34m\u001b[0m\u001b[0;34m\u001b[0m\u001b[0;34m\u001b[0m\u001b[0m\n\u001b[1;32m     12\u001b[0m \u001b[0;34m\u001b[0m\u001b[0m\n\u001b[0;32m---> 13\u001b[0;31m     \u001b[0mtrain_one_epoch\u001b[0m\u001b[0;34m(\u001b[0m\u001b[0mmodel\u001b[0m\u001b[0;34m,\u001b[0m \u001b[0mdata\u001b[0m\u001b[0;34m,\u001b[0m \u001b[0mepoch\u001b[0m\u001b[0;34m,\u001b[0m \u001b[0moptimizer\u001b[0m\u001b[0;34m,\u001b[0m \u001b[0mscaler\u001b[0m\u001b[0;34m,\u001b[0m \u001b[0mscheduler\u001b[0m\u001b[0;34m,\u001b[0m \u001b[0margs\u001b[0m\u001b[0;34m,\u001b[0m \u001b[0mwriter\u001b[0m\u001b[0;34m)\u001b[0m\u001b[0;34m\u001b[0m\u001b[0;34m\u001b[0m\u001b[0m\n\u001b[0m\u001b[1;32m     14\u001b[0m     \u001b[0mval_loss\u001b[0m \u001b[0;34m=\u001b[0m \u001b[0mevaluate\u001b[0m\u001b[0;34m(\u001b[0m\u001b[0mmodel\u001b[0m\u001b[0;34m,\u001b[0m \u001b[0mdata\u001b[0m\u001b[0;34m,\u001b[0m \u001b[0mcompleted_epoch\u001b[0m\u001b[0;34m,\u001b[0m \u001b[0margs\u001b[0m\u001b[0;34m,\u001b[0m \u001b[0mwriter\u001b[0m\u001b[0;34m)\u001b[0m\u001b[0;34m\u001b[0m\u001b[0;34m\u001b[0m\u001b[0m\n\u001b[1;32m     15\u001b[0m     \u001b[0mval_losses\u001b[0m\u001b[0;34m.\u001b[0m\u001b[0mappend\u001b[0m\u001b[0;34m(\u001b[0m\u001b[0mval_loss\u001b[0m\u001b[0;34m)\u001b[0m\u001b[0;34m\u001b[0m\u001b[0;34m\u001b[0m\u001b[0m\n",
      "\u001b[0;32m~/py_files/utils/metaclip_train.py\u001b[0m in \u001b[0;36mtrain_one_epoch\u001b[0;34m(model, data, epoch, optimizer, scaler, scheduler, args, tb_writer)\u001b[0m\n\u001b[1;32m    120\u001b[0m \u001b[0;34m\u001b[0m\u001b[0m\n\u001b[1;32m    121\u001b[0m         \u001b[0;32mif\u001b[0m \u001b[0mscaler\u001b[0m \u001b[0;32mis\u001b[0m \u001b[0;32mnot\u001b[0m \u001b[0;32mNone\u001b[0m\u001b[0;34m:\u001b[0m\u001b[0;34m\u001b[0m\u001b[0;34m\u001b[0m\u001b[0m\n\u001b[0;32m--> 122\u001b[0;31m             \u001b[0mscaler\u001b[0m\u001b[0;34m.\u001b[0m\u001b[0mscale\u001b[0m\u001b[0;34m(\u001b[0m\u001b[0mtotal_loss\u001b[0m\u001b[0;34m)\u001b[0m\u001b[0;34m.\u001b[0m\u001b[0mbackward\u001b[0m\u001b[0;34m(\u001b[0m\u001b[0;34m)\u001b[0m\u001b[0;34m\u001b[0m\u001b[0;34m\u001b[0m\u001b[0m\n\u001b[0m\u001b[1;32m    123\u001b[0m             \u001b[0;32mif\u001b[0m \u001b[0margs\u001b[0m\u001b[0;34m.\u001b[0m\u001b[0mhorovod\u001b[0m\u001b[0;34m:\u001b[0m\u001b[0;34m\u001b[0m\u001b[0;34m\u001b[0m\u001b[0m\n\u001b[1;32m    124\u001b[0m                 \u001b[0moptimizer\u001b[0m\u001b[0;34m.\u001b[0m\u001b[0msynchronize\u001b[0m\u001b[0;34m(\u001b[0m\u001b[0;34m)\u001b[0m\u001b[0;34m\u001b[0m\u001b[0;34m\u001b[0m\u001b[0m\n",
      "\u001b[0;32m/usr/local/lib/python3.6/dist-packages/torch/_tensor.py\u001b[0m in \u001b[0;36mbackward\u001b[0;34m(self, gradient, retain_graph, create_graph, inputs)\u001b[0m\n\u001b[1;32m    305\u001b[0m                 \u001b[0mcreate_graph\u001b[0m\u001b[0;34m=\u001b[0m\u001b[0mcreate_graph\u001b[0m\u001b[0;34m,\u001b[0m\u001b[0;34m\u001b[0m\u001b[0;34m\u001b[0m\u001b[0m\n\u001b[1;32m    306\u001b[0m                 inputs=inputs)\n\u001b[0;32m--> 307\u001b[0;31m         \u001b[0mtorch\u001b[0m\u001b[0;34m.\u001b[0m\u001b[0mautograd\u001b[0m\u001b[0;34m.\u001b[0m\u001b[0mbackward\u001b[0m\u001b[0;34m(\u001b[0m\u001b[0mself\u001b[0m\u001b[0;34m,\u001b[0m \u001b[0mgradient\u001b[0m\u001b[0;34m,\u001b[0m \u001b[0mretain_graph\u001b[0m\u001b[0;34m,\u001b[0m \u001b[0mcreate_graph\u001b[0m\u001b[0;34m,\u001b[0m \u001b[0minputs\u001b[0m\u001b[0;34m=\u001b[0m\u001b[0minputs\u001b[0m\u001b[0;34m)\u001b[0m\u001b[0;34m\u001b[0m\u001b[0;34m\u001b[0m\u001b[0m\n\u001b[0m\u001b[1;32m    308\u001b[0m \u001b[0;34m\u001b[0m\u001b[0m\n\u001b[1;32m    309\u001b[0m     \u001b[0;32mdef\u001b[0m \u001b[0mregister_hook\u001b[0m\u001b[0;34m(\u001b[0m\u001b[0mself\u001b[0m\u001b[0;34m,\u001b[0m \u001b[0mhook\u001b[0m\u001b[0;34m)\u001b[0m\u001b[0;34m:\u001b[0m\u001b[0;34m\u001b[0m\u001b[0;34m\u001b[0m\u001b[0m\n",
      "\u001b[0;32m/usr/local/lib/python3.6/dist-packages/torch/autograd/__init__.py\u001b[0m in \u001b[0;36mbackward\u001b[0;34m(tensors, grad_tensors, retain_graph, create_graph, grad_variables, inputs)\u001b[0m\n\u001b[1;32m    154\u001b[0m     Variable._execution_engine.run_backward(\n\u001b[1;32m    155\u001b[0m         \u001b[0mtensors\u001b[0m\u001b[0;34m,\u001b[0m \u001b[0mgrad_tensors_\u001b[0m\u001b[0;34m,\u001b[0m \u001b[0mretain_graph\u001b[0m\u001b[0;34m,\u001b[0m \u001b[0mcreate_graph\u001b[0m\u001b[0;34m,\u001b[0m \u001b[0minputs\u001b[0m\u001b[0;34m,\u001b[0m\u001b[0;34m\u001b[0m\u001b[0;34m\u001b[0m\u001b[0m\n\u001b[0;32m--> 156\u001b[0;31m         allow_unreachable=True, accumulate_grad=True)  # allow_unreachable flag\n\u001b[0m\u001b[1;32m    157\u001b[0m \u001b[0;34m\u001b[0m\u001b[0m\n\u001b[1;32m    158\u001b[0m \u001b[0;34m\u001b[0m\u001b[0m\n",
      "\u001b[0;31mKeyboardInterrupt\u001b[0m: "
     ]
    }
   ],
   "source": [
    "# from tqdm.notebook import tqdm\n",
    "\n",
    "start_epoch = 0\n",
    "completed_epoch = 0\n",
    "\n",
    "best_val_loss = 1e6\n",
    "val_losses = []\n",
    "\n",
    "for epoch in range(start_epoch, args.epochs):\n",
    "    # if is_master(args):\n",
    "    # logging.info(f'Start epoch {epoch}')\n",
    "\n",
    "    train_one_epoch(model, data, epoch, optimizer, scaler, scheduler, args, writer)\n",
    "    val_loss = evaluate(model, data, completed_epoch, args, writer)\n",
    "    val_losses.append(val_loss)\n",
    "\n",
    "    if val_loss < best_val_loss:\n",
    "        best_val_loss = val_loss\n",
    "        # torch.save(model.state_dict(), './weights/metaclip_v5_ratio_05.pth')\n",
    "        print(\"epoch \", epoch, \"model loaded with best loss \", best_val_loss)\n",
    "    \n",
    "    completed_epoch = epoch + 1"
   ]
  },
  {
   "cell_type": "code",
   "execution_count": null,
   "metadata": {},
   "outputs": [
    {
     "name": "stdout",
     "output_type": "stream",
     "text": [
      "0.6953872442245483\n"
     ]
    },
    {
     "data": {
      "image/png": "[encoded data removed]",
      "text/plain": [
       "<Figure size 720x576 with 1 Axes>"
      ]
     },
     "metadata": {
      "needs_background": "light"
     },
     "output_type": "display_data"
    }
   ],
   "source": [
    "import matplotlib.pyplot as plt\n",
    "val_losses = [i.tolist() for i in val_losses]\n",
    "plt.figure(figsize=(10, 8))\n",
    "plt.plot(val_losses)\n",
    "print(min(val_losses))"
   ]
  },
  {
   "cell_type": "code",
   "execution_count": null,
   "metadata": {},
   "outputs": [
    {
     "data": {
      "text/plain": [
       "(0.6953872442245483, 70)"
      ]
     },
     "execution_count": 188,
     "metadata": {},
     "output_type": "execute_result"
    }
   ],
   "source": [
    "val_losses[np.argmin(np.array(val_losses))], np.argmin(np.array(val_losses))"
   ]
  },
  {
   "cell_type": "code",
   "execution_count": null,
   "metadata": {},
   "outputs": [],
   "source": []
  }
 ],
 "metadata": {
  "kernelspec": {
   "display_name": "Python 3.6.9 64-bit",
   "language": "python",
   "name": "python3"
  },
  "language_info": {
   "codemirror_mode": {
    "name": "ipython",
    "version": 3
   },
   "file_extension": ".py",
   "mimetype": "text/x-python",
   "name": "python",
   "nbconvert_exporter": "python",
   "pygments_lexer": "ipython3",
   "version": "3.6.9"
  },
  "orig_nbformat": 4,
  "vscode": {
   "interpreter": {
    "hash": "767d51c1340bd893661ea55ea3124f6de3c7a262a8b4abca0554b478b1e2ff90"
   }
  }
 },
 "nbformat": 4,
 "nbformat_minor": 2
}
