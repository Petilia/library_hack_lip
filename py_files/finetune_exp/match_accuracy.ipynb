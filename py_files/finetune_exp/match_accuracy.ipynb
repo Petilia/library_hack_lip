{
 "cells": [
  {
   "cell_type": "code",
   "execution_count": 1,
   "metadata": {},
   "outputs": [],
   "source": [
    "import pandas as pd\n",
    "import numpy as np\n",
    "import torch\n",
    "from sklearn.model_selection import train_test_split"
   ]
  },
  {
   "cell_type": "code",
   "execution_count": 2,
   "metadata": {},
   "outputs": [
    {
     "data": {
      "text/plain": [
       "MetaCLIP(\n",
       "  (encode_image): ImageEncoder(\n",
       "    (fc1): Linear(in_features=768, out_features=1380, bias=True)\n",
       "    (fc2): Linear(in_features=1380, out_features=768, bias=True)\n",
       "  )\n",
       "  (encode_text): TextEncoder(\n",
       "    (fc1): Linear(in_features=768, out_features=1380, bias=True)\n",
       "    (fc2): Linear(in_features=1380, out_features=768, bias=True)\n",
       "  )\n",
       ")"
      ]
     },
     "execution_count": 2,
     "metadata": {},
     "output_type": "execute_result"
    }
   ],
   "source": [
    "from metaclip_arch.metaclip_v4 import MetaCLIP\n",
    "device = \"cuda:0\" if torch.cuda.is_available() else \"cpu\"\n",
    "\n",
    "metaclip_model = MetaCLIP()\n",
    "metaclip_model.eval()\n",
    "path_weights = \"./weights/metaclip_v4.pth\"\n",
    "\n",
    "metaclip_model.load_state_dict(torch.load(path_weights, map_location=torch.device('cpu')) )\n",
    "metaclip_model.to(device)"
   ]
  },
  {
   "cell_type": "code",
   "execution_count": 3,
   "metadata": {},
   "outputs": [],
   "source": [
    "df_train_clip = pd.DataFrame()\n",
    "\n",
    "with open('/home/docker_current/py_files/MLCLIP_exp/image_feat_array.npy', 'rb') as f:\n",
    "    image_feat_array = np.load(f)\n",
    "\n",
    "with open('/home/docker_current/py_files/MLCLIP_exp/text_feat_array.npy', 'rb') as f:\n",
    "    text_feat_array = np.load(f)\n",
    "\n",
    "X_train, X_test, y_train, y_test = train_test_split(text_feat_array, image_feat_array, \n",
    "                                                        test_size=0.25, random_state=42)\n",
    "\n",
    "# просто весь датасет\n",
    "# df_train_clip['image_features'] = [i.reshape(1,-1) for i in image_feat_array]\n",
    "# df_train_clip['text_features'] = [i.reshape(1,-1) for i in text_feat_array]\n",
    "\n",
    "# только тестовый датасет с примененным метаклипом\n",
    "df_train_clip['image_features'] = [metaclip_model.encode_image(torch.Tensor(i.reshape(1,-1)).to(device)).cpu().detach().numpy() for i in X_test]\n",
    "df_train_clip['text_features'] = [metaclip_model.encode_text(torch.Tensor(i.reshape(1,-1)).to(device)).cpu().detach().numpy() for i in y_test]\n",
    "\n",
    "# весь датасет с примененным метаклипом\n",
    "# df_train_clip['image_features'] = [metaclip_model.encode_image(torch.Tensor(i.reshape(1,-1)).to(device)).cpu().detach().numpy() for i in text_feat_array]\n",
    "# df_train_clip['text_features'] = [metaclip_model.encode_text(torch.Tensor(i.reshape(1,-1)).to(device)).cpu().detach().numpy() for i in image_feat_array]"
   ]
  },
  {
   "cell_type": "code",
   "execution_count": 4,
   "metadata": {},
   "outputs": [],
   "source": [
    "cos = torch.nn.CosineSimilarity(dim=1, eps=1e-6)\n",
    "\n",
    "def get_similarity(df, index_text, index_image):\n",
    "    sim =cos(torch.Tensor(df_train_clip['text_features'][index_text]), \n",
    "                        torch.Tensor(df_train_clip['image_features'][index_image]))\n",
    "    return sim"
   ]
  },
  {
   "cell_type": "code",
   "execution_count": 5,
   "metadata": {},
   "outputs": [
    {
     "data": {
      "application/vnd.jupyter.widget-view+json": {
       "model_id": "290b66e3d17a42b6826a531fd41db26b",
       "version_major": 2,
       "version_minor": 0
      },
      "text/plain": [
       "  0%|          | 0/525 [00:00<?, ?it/s]"
      ]
     },
     "metadata": {},
     "output_type": "display_data"
    },
    {
     "name": "stdout",
     "output_type": "stream",
     "text": [
      "CPU times: user 19.9 s, sys: 35.1 ms, total: 19.9 s\n",
      "Wall time: 20 s\n"
     ]
    },
    {
     "data": {
      "text/plain": [
       "227"
      ]
     },
     "execution_count": 5,
     "metadata": {},
     "output_type": "execute_result"
    }
   ],
   "source": [
    "%%time\n",
    "from tqdm.notebook import tqdm\n",
    "\n",
    "count_true_map = 0\n",
    "preds = []\n",
    "\n",
    "for ind_text in tqdm(range(len(df_train_clip))):\n",
    "\n",
    "    sims = []\n",
    "\n",
    "    for ind_image in range(len(df_train_clip)):\n",
    "        sim = get_similarity(df_train_clip, ind_text, ind_image)\n",
    "        sims.append(sim)\n",
    "\n",
    "    sims = np.array(sims)\n",
    "    ind_max = np.argmax(sims)\n",
    "    preds.append(ind_max)\n",
    "    # print(ind_max, sims[ind_max])\n",
    "\n",
    "    if ind_max == ind_text:\n",
    "        count_true_map += 1\n",
    "\n",
    "count_true_map"
   ]
  },
  {
   "cell_type": "code",
   "execution_count": 6,
   "metadata": {},
   "outputs": [
    {
     "data": {
      "text/plain": [
       "(227, 525)"
      ]
     },
     "execution_count": 6,
     "metadata": {},
     "output_type": "execute_result"
    }
   ],
   "source": [
    "count_true_map, len(df_train_clip)"
   ]
  },
  {
   "cell_type": "code",
   "execution_count": null,
   "metadata": {},
   "outputs": [],
   "source": [
    "1665"
   ]
  },
  {
   "cell_type": "code",
   "execution_count": null,
   "metadata": {},
   "outputs": [],
   "source": []
  }
 ],
 "metadata": {
  "kernelspec": {
   "display_name": "Python 3.6.9 64-bit",
   "language": "python",
   "name": "python3"
  },
  "language_info": {
   "codemirror_mode": {
    "name": "ipython",
    "version": 3
   },
   "file_extension": ".py",
   "mimetype": "text/x-python",
   "name": "python",
   "nbconvert_exporter": "python",
   "pygments_lexer": "ipython3",
   "version": "3.6.9"
  },
  "orig_nbformat": 4,
  "vscode": {
   "interpreter": {
    "hash": "767d51c1340bd893661ea55ea3124f6de3c7a262a8b4abca0554b478b1e2ff90"
   }
  }
 },
 "nbformat": 4,
 "nbformat_minor": 2
}
