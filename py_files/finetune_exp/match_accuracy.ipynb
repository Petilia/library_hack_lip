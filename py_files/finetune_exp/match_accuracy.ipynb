{
 "cells": [
  {
   "cell_type": "code",
   "execution_count": 8,
   "metadata": {},
   "outputs": [],
   "source": [
    "import pandas as pd\n",
    "import numpy as np\n",
    "import torch\n",
    "from sklearn.model_selection import train_test_split"
   ]
  },
  {
   "cell_type": "code",
   "execution_count": 9,
   "metadata": {},
   "outputs": [
    {
     "data": {
      "text/plain": [
       "MetaCLIP(\n",
       "  (encode_image): ImageEncoder(\n",
       "    (fc1): Linear(in_features=768, out_features=1380, bias=True)\n",
       "    (fc2): Linear(in_features=1380, out_features=768, bias=True)\n",
       "  )\n",
       "  (encode_text): TextEncoder(\n",
       "    (fc1): Linear(in_features=768, out_features=1380, bias=True)\n",
       "    (fc2): Linear(in_features=1380, out_features=768, bias=True)\n",
       "  )\n",
       ")"
      ]
     },
     "execution_count": 9,
     "metadata": {},
     "output_type": "execute_result"
    }
   ],
   "source": [
    "from metaclip_arch.metaclip_v5 import MetaCLIP\n",
    "device = \"cuda:0\" if torch.cuda.is_available() else \"cpu\"\n",
    "\n",
    "metaclip_model = MetaCLIP(ratio=0.5)\n",
    "path_weights = \"./weights/metaclip_v5_ratio_05.pth\"\n",
    "\n",
    "metaclip_model.load_state_dict(torch.load(path_weights, map_location=torch.device('cpu')) )\n",
    "metaclip_model.to(device)\n",
    "metaclip_model.eval()"
   ]
  },
  {
   "cell_type": "code",
   "execution_count": 13,
   "metadata": {},
   "outputs": [],
   "source": [
    "df_train_clip = pd.DataFrame()\n",
    "\n",
    "with open('/home/docker_current/py_files/MLCLIP_exp/image_feat_array.npy', 'rb') as f:\n",
    "    image_feat_array = np.load(f)\n",
    "\n",
    "with open('/home/docker_current/py_files/MLCLIP_exp/text_feat_array.npy', 'rb') as f:\n",
    "    text_feat_array = np.load(f)\n",
    "\n",
    "X_train, X_test, y_train, y_test = train_test_split(text_feat_array, image_feat_array, \n",
    "                                                        test_size=0.25, random_state=42)\n",
    "\n",
    "# просто весь датасет\n",
    "# df_train_clip['image_features'] = [i.reshape(1,-1) for i in image_feat_array]\n",
    "# df_train_clip['text_features'] = [i.reshape(1,-1) for i in text_feat_array]\n",
    "\n",
    "# только тестовый датасет с примененным метаклипом\n",
    "# df_train_clip['image_features'] = [metaclip_model.encode_image(torch.Tensor(i.reshape(1,-1)).to(device)).cpu().detach().numpy() for i in X_test]\n",
    "# df_train_clip['text_features'] = [metaclip_model.encode_text(torch.Tensor(i.reshape(1,-1)).to(device)).cpu().detach().numpy() for i in y_test]\n",
    "\n",
    "# весь датасет с примененным метаклипом\n",
    "df_train_clip['image_features'] = [metaclip_model.encode_image(torch.Tensor(i.reshape(1,-1)).to(device)).cpu().detach().numpy() for i in text_feat_array]\n",
    "df_train_clip['text_features'] = [metaclip_model.encode_text(torch.Tensor(i.reshape(1,-1)).to(device)).cpu().detach().numpy() for i in image_feat_array]"
   ]
  },
  {
   "cell_type": "code",
   "execution_count": 14,
   "metadata": {},
   "outputs": [],
   "source": [
    "cos = torch.nn.CosineSimilarity(dim=1, eps=1e-6)\n",
    "\n",
    "def get_similarity(df, index_text, index_image):\n",
    "    sim =cos(torch.Tensor(df_train_clip['text_features'][index_text]), \n",
    "                        torch.Tensor(df_train_clip['image_features'][index_image]))\n",
    "    return sim"
   ]
  },
  {
   "cell_type": "code",
   "execution_count": 15,
   "metadata": {},
   "outputs": [
    {
     "data": {
      "application/vnd.jupyter.widget-view+json": {
       "model_id": "634cb8b4a5ab45d4830d00bf1a66cf40",
       "version_major": 2,
       "version_minor": 0
      },
      "text/plain": [
       "  0%|          | 0/2098 [00:00<?, ?it/s]"
      ]
     },
     "metadata": {},
     "output_type": "display_data"
    },
    {
     "name": "stdout",
     "output_type": "stream",
     "text": [
      "CPU times: user 4min 53s, sys: 907 ms, total: 4min 54s\n",
      "Wall time: 4min 54s\n"
     ]
    },
    {
     "data": {
      "text/plain": [
       "1208"
      ]
     },
     "execution_count": 15,
     "metadata": {},
     "output_type": "execute_result"
    }
   ],
   "source": [
    "%%time\n",
    "from tqdm.notebook import tqdm\n",
    "\n",
    "count_true_map = 0\n",
    "preds = []\n",
    "\n",
    "for ind_text in tqdm(range(len(df_train_clip))):\n",
    "\n",
    "    sims = []\n",
    "\n",
    "    for ind_image in range(len(df_train_clip)):\n",
    "        sim = get_similarity(df_train_clip, ind_text, ind_image)\n",
    "        sims.append(sim)\n",
    "\n",
    "    sims = np.array(sims)\n",
    "    ind_max = np.argmax(sims)\n",
    "    preds.append(ind_max)\n",
    "    # print(ind_max, sims[ind_max])\n",
    "\n",
    "    if ind_max == ind_text:\n",
    "        count_true_map += 1\n",
    "\n",
    "count_true_map"
   ]
  },
  {
   "cell_type": "code",
   "execution_count": 16,
   "metadata": {},
   "outputs": [
    {
     "data": {
      "text/plain": [
       "(1208, 2098)"
      ]
     },
     "execution_count": 16,
     "metadata": {},
     "output_type": "execute_result"
    }
   ],
   "source": [
    "count_true_map, len(df_train_clip)"
   ]
  },
  {
   "cell_type": "markdown",
   "metadata": {},
   "source": [
    "#### 1208 - v5 ratio 0.5 not full\n",
    "#### 1062 - v4 full ratio 0.2\n",
    "#### 1665 - v3 symmetr full"
   ]
  },
  {
   "cell_type": "code",
   "execution_count": null,
   "metadata": {},
   "outputs": [],
   "source": []
  },
  {
   "cell_type": "markdown",
   "metadata": {},
   "source": [
    "#### 237 из 525 +++  v5 ratio 0.5\n",
    "#### 227 из 525 +++ v4 960 из 2098 - residual\n",
    "#### 224 из 525 +++ v4 876 из 2098 - residual + sym_dataset"
   ]
  },
  {
   "cell_type": "code",
   "execution_count": null,
   "metadata": {},
   "outputs": [],
   "source": []
  }
 ],
 "metadata": {
  "kernelspec": {
   "display_name": "Python 3.6.9 64-bit",
   "language": "python",
   "name": "python3"
  },
  "language_info": {
   "codemirror_mode": {
    "name": "ipython",
    "version": 3
   },
   "file_extension": ".py",
   "mimetype": "text/x-python",
   "name": "python",
   "nbconvert_exporter": "python",
   "pygments_lexer": "ipython3",
   "version": "3.6.9"
  },
  "orig_nbformat": 4,
  "vscode": {
   "interpreter": {
    "hash": "767d51c1340bd893661ea55ea3124f6de3c7a262a8b4abca0554b478b1e2ff90"
   }
  }
 },
 "nbformat": 4,
 "nbformat_minor": 2
}
