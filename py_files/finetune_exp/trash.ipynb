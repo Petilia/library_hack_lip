{
 "cells": [
  {
   "cell_type": "code",
   "execution_count": 2,
   "metadata": {},
   "outputs": [
    {
     "data": {
      "text/plain": [
       "MetaCLIP(\n",
       "  (encode_image): ImageEncoder(\n",
       "    (fc1): Linear(in_features=768, out_features=256, bias=True)\n",
       "    (fc2): Linear(in_features=256, out_features=128, bias=True)\n",
       "  )\n",
       "  (encode_text): TextEncoder(\n",
       "    (fc1): Linear(in_features=768, out_features=256, bias=True)\n",
       "    (fc2): Linear(in_features=256, out_features=128, bias=True)\n",
       "  )\n",
       ")"
      ]
     },
     "execution_count": 2,
     "metadata": {},
     "output_type": "execute_result"
    }
   ],
   "source": [
    "import pandas as pd\n",
    "import numpy as np\n",
    "import torch\n",
    "import os\n",
    "import sys\n",
    "sys.path.append(\"/home/docker_current/py_files/MLCLIP_exp\")\n",
    "from MLCLIP_utils import get_text_encode_model, get_image_encode_model\n",
    "from metaclip_arch.metaclip_v1 import MetaCLIP\n",
    "\n",
    "device = \"cuda:1\" if torch.cuda.is_available() else \"cpu\"\n",
    "\n",
    "metaclip_model = MetaCLIP()\n",
    "path_weights = \"metaclip_v1.pth\"\n",
    "\n",
    "metaclip_model.load_state_dict(torch.load(path_weights, map_location=torch.device('cpu')) )\n",
    "metaclip_model.to(device)"
   ]
  },
  {
   "cell_type": "code",
   "execution_count": 4,
   "metadata": {},
   "outputs": [],
   "source": [
    "from sklearn.model_selection import train_test_split\n",
    "\n",
    "with open('/home/docker_current/py_files/MLCLIP_exp/image_feat_array.npy', 'rb') as f:\n",
    "    image_feat_array = np.load(f)\n",
    "\n",
    "with open('/home/docker_current/py_files/MLCLIP_exp/text_feat_array.npy', 'rb') as f:\n",
    "    text_feat_array = np.load(f)\n",
    "\n",
    "X_train, X_test, y_train, y_test = train_test_split(text_feat_array, image_feat_array, \n",
    "                                                        test_size=0.25, random_state=42)"
   ]
  },
  {
   "cell_type": "code",
   "execution_count": 5,
   "metadata": {},
   "outputs": [],
   "source": [
    "cos = torch.nn.CosineSimilarity(dim=1, eps=1e-6)\n",
    "\n",
    "def get_similarity(image_emb, text_emb):\n",
    "    sim =cos(torch.Tensor(image_emb), \n",
    "                        torch.Tensor(text_emb))\n",
    "    return sim"
   ]
  },
  {
   "cell_type": "code",
   "execution_count": 30,
   "metadata": {},
   "outputs": [
    {
     "data": {
      "text/plain": [
       "tensor([0.2866])"
      ]
     },
     "execution_count": 30,
     "metadata": {},
     "output_type": "execute_result"
    }
   ],
   "source": [
    "ind = 0\n",
    "sample_image_feat = X_test[ind].reshape(1, -1)\n",
    "sample_text_feat = y_test[ind].reshape(1, -1)\n",
    "\n",
    "get_similarity(sample_image_feat, sample_text_feat)"
   ]
  },
  {
   "cell_type": "code",
   "execution_count": 31,
   "metadata": {},
   "outputs": [
    {
     "data": {
      "text/plain": [
       "tensor([0.3773], grad_fn=<DivBackward0>)"
      ]
     },
     "execution_count": 31,
     "metadata": {},
     "output_type": "execute_result"
    }
   ],
   "source": [
    "metaclip_sample_image_feat = torch.Tensor(sample_image_feat).to(device)\n",
    "metaclip_sample_text_feat = torch.Tensor(sample_text_feat).to(device)\n",
    "\n",
    "metaclip_sample_image_feat = metaclip_model.encode_image(metaclip_sample_image_feat).cpu()\n",
    "metaclip_sample_text_feat = metaclip_model.encode_text(metaclip_sample_text_feat).cpu()\n",
    "\n",
    "get_similarity(metaclip_sample_image_feat, metaclip_sample_text_feat)"
   ]
  },
  {
   "cell_type": "code",
   "execution_count": null,
   "metadata": {},
   "outputs": [],
   "source": []
  }
 ],
 "metadata": {
  "kernelspec": {
   "display_name": "Python 3.6.9 64-bit",
   "language": "python",
   "name": "python3"
  },
  "language_info": {
   "codemirror_mode": {
    "name": "ipython",
    "version": 3
   },
   "file_extension": ".py",
   "mimetype": "text/x-python",
   "name": "python",
   "nbconvert_exporter": "python",
   "pygments_lexer": "ipython3",
   "version": "3.6.9"
  },
  "orig_nbformat": 4,
  "vscode": {
   "interpreter": {
    "hash": "767d51c1340bd893661ea55ea3124f6de3c7a262a8b4abca0554b478b1e2ff90"
   }
  }
 },
 "nbformat": 4,
 "nbformat_minor": 2
}
